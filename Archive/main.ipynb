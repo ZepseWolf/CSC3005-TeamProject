{
 "cells": [
  {
   "cell_type": "code",
   "execution_count": 1,
   "metadata": {},
   "outputs": [
    {
     "ename": "SyntaxError",
     "evalue": "incomplete input (2023683486.py, line 35)",
     "output_type": "error",
     "traceback": [
      "\u001b[1;36m  Cell \u001b[1;32mIn[1], line 35\u001b[1;36m\u001b[0m\n\u001b[1;33m    \u001b[0m\n\u001b[1;37m    ^\u001b[0m\n\u001b[1;31mSyntaxError\u001b[0m\u001b[1;31m:\u001b[0m incomplete input\n"
     ]
    }
   ],
   "source": [
    "import csv\n",
    "import pandas as pd\n",
    "\n",
    "with open(\"badmintondata.csv\",\"r\") as file:\n",
    "    reader = csv.reader(file)\n",
    "    header =  list(next(reader))\n",
    "    allCurveArrs = []\n",
    "    tempCurveArr = []\n",
    "    \n",
    "    previousEmpty = False # Depend if first dataset has data or not , false if it has data \n",
    "    for row in reader:\n",
    "        \n",
    "        if row[7] == \"0\":\n",
    "            # If row is empty , ignore unless previous has data , hence will save all data before ignoring\n",
    "            \n",
    "            if not previousEmpty :\n",
    "                allCurveArrs.append(tempCurveArr);\n",
    "                tempCurveArr = []\n",
    "                previousEmpty = True\n",
    "            \n",
    "        else:\n",
    "            # If row is not empty\n",
    "            if previousEmpty :\n",
    "                tempCurveArr = []\n",
    "                previousEmpty = False\n",
    "                \n",
    "            tempCurveArr.append(row)\n",
    "        # arr =  list(row)\n",
    "        # print(\"row: \",row , \" and \" , type(arr))\n",
    "print(\"curve: \" ,allCurveArrs)\n",
    "for curve in allCurveArrs:\n",
    "    # print(\"Points: \" ,len(curve))\n",
    "    # print(\"Points eg: \" ,curve[len(curve)-1])\n",
    "    # print(array)\n",
    "    pass\n"
   ]
  },
  {
   "cell_type": "code",
   "execution_count": null,
   "metadata": {},
   "outputs": [],
   "source": []
  },
  {
   "cell_type": "code",
   "execution_count": null,
   "metadata": {},
   "outputs": [],
   "source": []
  },
  {
   "cell_type": "code",
   "execution_count": null,
   "metadata": {},
   "outputs": [],
   "source": []
  },
  {
   "cell_type": "code",
   "execution_count": null,
   "metadata": {},
   "outputs": [],
   "source": []
  }
 ],
 "metadata": {
  "kernelspec": {
   "display_name": "Python 3",
   "language": "python",
   "name": "python3"
  },
  "language_info": {
   "codemirror_mode": {
    "name": "ipython",
    "version": 3
   },
   "file_extension": ".py",
   "mimetype": "text/x-python",
   "name": "python",
   "nbconvert_exporter": "python",
   "pygments_lexer": "ipython3",
   "version": "3.11.3"
  },
  "orig_nbformat": 4
 },
 "nbformat": 4,
 "nbformat_minor": 2
}
