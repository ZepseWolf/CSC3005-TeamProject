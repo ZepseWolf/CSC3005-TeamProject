{
 "cells": [
  {
   "cell_type": "code",
   "execution_count": 96,
   "metadata": {},
   "outputs": [],
   "source": [
    "import numpy as np\n",
    "import pandas as pd\n",
    "import matplotlib.pyplot as plt\n",
    "from mpl_toolkits.mplot3d import Axes3D\n",
    "from sklearn.linear_model import LinearRegression\n",
    "from sklearn.preprocessing import PolynomialFeatures\n",
    "from sklearn.model_selection import train_test_split\n",
    "from sklearn.metrics import mean_squared_error\n",
    "import pandas as pd\n",
    "import numpy as np\n",
    "import matplotlib.pyplot as plt\n",
    "from mpl_toolkits.mplot3d import Axes3D\n",
    "import pandas as pd\n",
    "import numpy as np\n",
    "from sklearn.model_selection import train_test_split\n",
    "import joblib\n"
   ]
  },
  {
   "cell_type": "code",
   "execution_count": 97,
   "metadata": {},
   "outputs": [
    {
     "name": "stdout",
     "output_type": "stream",
     "text": [
      "Number of rows before cleaning: 315200\n",
      "Number of rows after cleaning: 168842\n"
     ]
    }
   ],
   "source": [
    "# Load the first dataset\n",
    "df1 = pd.read_csv('badmintondata.csv')\n",
    "\n",
    "# Load the second dataset\n",
    "df2 = pd.read_csv('badmintondata2.csv')\n",
    "\n",
    "# Combine both datasets\n",
    "df_combined = pd.concat([df1, df2], ignore_index=True)\n",
    "\n",
    "# Count rows before cleaning\n",
    "rows_before_cleaning = df_combined.shape[0]\n",
    "\n",
    "# Handling missing values\n",
    "df_combined = df_combined.dropna()  # Drop rows with missing values\n",
    "\n",
    "# Handling outliers (Using z-score)\n",
    "z_scores_combined = (df_combined - df_combined.mean()) / df_combined.std()  # Calculate z-scores\n",
    "threshold = 3  # Set a threshold for outliers\n",
    "outliers_combined = (z_scores_combined.abs() > threshold).any(axis=1)  # Find rows with outliers\n",
    "df_combined_cleaned = df_combined[~outliers_combined].copy()  # Filter out rows with outliers\n",
    "\n",
    "# Identify consecutive rows of all zeros\n",
    "mask = (df_combined == 0).all(axis=1)\n",
    "groups = mask.cumsum()\n",
    "\n",
    "# Filter out consecutive rows of all zeros\n",
    "df_combined_cleaned = df_combined[~mask]\n",
    "df_combined_cleaned.to_csv('cleaned_dataset.csv', index = False)\n",
    "\n",
    "# Count rows after cleaning\n",
    "rows_after_cleaning = df_combined_cleaned.shape[0]\n",
    "\n",
    "print(\"Number of rows before cleaning:\", rows_before_cleaning)\n",
    "print(\"Number of rows after cleaning:\", rows_after_cleaning)\n"
   ]
  },
  {
   "cell_type": "code",
   "execution_count": 98,
   "metadata": {},
   "outputs": [
    {
     "ename": "KeyboardInterrupt",
     "evalue": "",
     "output_type": "error",
     "traceback": [
      "\u001b[1;31m---------------------------------------------------------------------------\u001b[0m",
      "\u001b[1;31mKeyboardInterrupt\u001b[0m                         Traceback (most recent call last)",
      "Cell \u001b[1;32mIn[98], line 21\u001b[0m\n\u001b[0;32m     18\u001b[0m axes[\u001b[39m1\u001b[39m]\u001b[39m.\u001b[39mgrid(\u001b[39mTrue\u001b[39;00m)\n\u001b[0;32m     20\u001b[0m plt\u001b[39m.\u001b[39mtight_layout()\n\u001b[1;32m---> 21\u001b[0m plt\u001b[39m.\u001b[39;49mshow()\n",
      "File \u001b[1;32mc:\\Users\\Kenny\\AppData\\Local\\Programs\\Python\\Python310\\lib\\site-packages\\matplotlib\\pyplot.py:409\u001b[0m, in \u001b[0;36mshow\u001b[1;34m(*args, **kwargs)\u001b[0m\n\u001b[0;32m    365\u001b[0m \u001b[39m\u001b[39m\u001b[39m\"\"\"\u001b[39;00m\n\u001b[0;32m    366\u001b[0m \u001b[39mDisplay all open figures.\u001b[39;00m\n\u001b[0;32m    367\u001b[0m \n\u001b[1;32m   (...)\u001b[0m\n\u001b[0;32m    406\u001b[0m \u001b[39mexplicitly there.\u001b[39;00m\n\u001b[0;32m    407\u001b[0m \u001b[39m\"\"\"\u001b[39;00m\n\u001b[0;32m    408\u001b[0m _warn_if_gui_out_of_main_thread()\n\u001b[1;32m--> 409\u001b[0m \u001b[39mreturn\u001b[39;00m _get_backend_mod()\u001b[39m.\u001b[39mshow(\u001b[39m*\u001b[39margs, \u001b[39m*\u001b[39m\u001b[39m*\u001b[39mkwargs)\n",
      "File \u001b[1;32m~\\AppData\\Roaming\\Python\\Python310\\site-packages\\matplotlib_inline\\backend_inline.py:90\u001b[0m, in \u001b[0;36mshow\u001b[1;34m(close, block)\u001b[0m\n\u001b[0;32m     88\u001b[0m \u001b[39mtry\u001b[39;00m:\n\u001b[0;32m     89\u001b[0m     \u001b[39mfor\u001b[39;00m figure_manager \u001b[39min\u001b[39;00m Gcf\u001b[39m.\u001b[39mget_all_fig_managers():\n\u001b[1;32m---> 90\u001b[0m         display(\n\u001b[0;32m     91\u001b[0m             figure_manager\u001b[39m.\u001b[39;49mcanvas\u001b[39m.\u001b[39;49mfigure,\n\u001b[0;32m     92\u001b[0m             metadata\u001b[39m=\u001b[39;49m_fetch_figure_metadata(figure_manager\u001b[39m.\u001b[39;49mcanvas\u001b[39m.\u001b[39;49mfigure)\n\u001b[0;32m     93\u001b[0m         )\n\u001b[0;32m     94\u001b[0m \u001b[39mfinally\u001b[39;00m:\n\u001b[0;32m     95\u001b[0m     show\u001b[39m.\u001b[39m_to_draw \u001b[39m=\u001b[39m []\n",
      "File \u001b[1;32m~\\AppData\\Roaming\\Python\\Python310\\site-packages\\IPython\\core\\display_functions.py:298\u001b[0m, in \u001b[0;36mdisplay\u001b[1;34m(include, exclude, metadata, transient, display_id, raw, clear, *objs, **kwargs)\u001b[0m\n\u001b[0;32m    296\u001b[0m     publish_display_data(data\u001b[39m=\u001b[39mobj, metadata\u001b[39m=\u001b[39mmetadata, \u001b[39m*\u001b[39m\u001b[39m*\u001b[39mkwargs)\n\u001b[0;32m    297\u001b[0m \u001b[39melse\u001b[39;00m:\n\u001b[1;32m--> 298\u001b[0m     format_dict, md_dict \u001b[39m=\u001b[39m \u001b[39mformat\u001b[39;49m(obj, include\u001b[39m=\u001b[39;49minclude, exclude\u001b[39m=\u001b[39;49mexclude)\n\u001b[0;32m    299\u001b[0m     \u001b[39mif\u001b[39;00m \u001b[39mnot\u001b[39;00m format_dict:\n\u001b[0;32m    300\u001b[0m         \u001b[39m# nothing to display (e.g. _ipython_display_ took over)\u001b[39;00m\n\u001b[0;32m    301\u001b[0m         \u001b[39mcontinue\u001b[39;00m\n",
      "File \u001b[1;32m~\\AppData\\Roaming\\Python\\Python310\\site-packages\\IPython\\core\\formatters.py:177\u001b[0m, in \u001b[0;36mDisplayFormatter.format\u001b[1;34m(self, obj, include, exclude)\u001b[0m\n\u001b[0;32m    175\u001b[0m md \u001b[39m=\u001b[39m \u001b[39mNone\u001b[39;00m\n\u001b[0;32m    176\u001b[0m \u001b[39mtry\u001b[39;00m:\n\u001b[1;32m--> 177\u001b[0m     data \u001b[39m=\u001b[39m formatter(obj)\n\u001b[0;32m    178\u001b[0m \u001b[39mexcept\u001b[39;00m:\n\u001b[0;32m    179\u001b[0m     \u001b[39m# FIXME: log the exception\u001b[39;00m\n\u001b[0;32m    180\u001b[0m     \u001b[39mraise\u001b[39;00m\n",
      "File \u001b[1;32m<decorator-gen-2>:2\u001b[0m, in \u001b[0;36m__call__\u001b[1;34m(self, obj)\u001b[0m\n",
      "File \u001b[1;32m~\\AppData\\Roaming\\Python\\Python310\\site-packages\\IPython\\core\\formatters.py:221\u001b[0m, in \u001b[0;36mcatch_format_error\u001b[1;34m(method, self, *args, **kwargs)\u001b[0m\n\u001b[0;32m    219\u001b[0m \u001b[39m\u001b[39m\u001b[39m\"\"\"show traceback on failed format call\"\"\"\u001b[39;00m\n\u001b[0;32m    220\u001b[0m \u001b[39mtry\u001b[39;00m:\n\u001b[1;32m--> 221\u001b[0m     r \u001b[39m=\u001b[39m method(\u001b[39mself\u001b[39m, \u001b[39m*\u001b[39margs, \u001b[39m*\u001b[39m\u001b[39m*\u001b[39mkwargs)\n\u001b[0;32m    222\u001b[0m \u001b[39mexcept\u001b[39;00m \u001b[39mNotImplementedError\u001b[39;00m:\n\u001b[0;32m    223\u001b[0m     \u001b[39m# don't warn on NotImplementedErrors\u001b[39;00m\n\u001b[0;32m    224\u001b[0m     \u001b[39mreturn\u001b[39;00m \u001b[39mself\u001b[39m\u001b[39m.\u001b[39m_check_return(\u001b[39mNone\u001b[39;00m, args[\u001b[39m0\u001b[39m])\n",
      "File \u001b[1;32m~\\AppData\\Roaming\\Python\\Python310\\site-packages\\IPython\\core\\formatters.py:338\u001b[0m, in \u001b[0;36mBaseFormatter.__call__\u001b[1;34m(self, obj)\u001b[0m\n\u001b[0;32m    336\u001b[0m     \u001b[39mpass\u001b[39;00m\n\u001b[0;32m    337\u001b[0m \u001b[39melse\u001b[39;00m:\n\u001b[1;32m--> 338\u001b[0m     \u001b[39mreturn\u001b[39;00m printer(obj)\n\u001b[0;32m    339\u001b[0m \u001b[39m# Finally look for special method names\u001b[39;00m\n\u001b[0;32m    340\u001b[0m method \u001b[39m=\u001b[39m get_real_method(obj, \u001b[39mself\u001b[39m\u001b[39m.\u001b[39mprint_method)\n",
      "File \u001b[1;32m~\\AppData\\Roaming\\Python\\Python310\\site-packages\\IPython\\core\\pylabtools.py:152\u001b[0m, in \u001b[0;36mprint_figure\u001b[1;34m(fig, fmt, bbox_inches, base64, **kwargs)\u001b[0m\n\u001b[0;32m    149\u001b[0m     \u001b[39mfrom\u001b[39;00m \u001b[39mmatplotlib\u001b[39;00m\u001b[39m.\u001b[39;00m\u001b[39mbackend_bases\u001b[39;00m \u001b[39mimport\u001b[39;00m FigureCanvasBase\n\u001b[0;32m    150\u001b[0m     FigureCanvasBase(fig)\n\u001b[1;32m--> 152\u001b[0m fig\u001b[39m.\u001b[39mcanvas\u001b[39m.\u001b[39mprint_figure(bytes_io, \u001b[39m*\u001b[39m\u001b[39m*\u001b[39mkw)\n\u001b[0;32m    153\u001b[0m data \u001b[39m=\u001b[39m bytes_io\u001b[39m.\u001b[39mgetvalue()\n\u001b[0;32m    154\u001b[0m \u001b[39mif\u001b[39;00m fmt \u001b[39m==\u001b[39m \u001b[39m'\u001b[39m\u001b[39msvg\u001b[39m\u001b[39m'\u001b[39m:\n",
      "File \u001b[1;32mc:\\Users\\Kenny\\AppData\\Local\\Programs\\Python\\Python310\\lib\\site-packages\\matplotlib\\backend_bases.py:2338\u001b[0m, in \u001b[0;36mFigureCanvasBase.print_figure\u001b[1;34m(self, filename, dpi, facecolor, edgecolor, orientation, format, bbox_inches, pad_inches, bbox_extra_artists, backend, **kwargs)\u001b[0m\n\u001b[0;32m   2334\u001b[0m \u001b[39mtry\u001b[39;00m:\n\u001b[0;32m   2335\u001b[0m     \u001b[39m# _get_renderer may change the figure dpi (as vector formats\u001b[39;00m\n\u001b[0;32m   2336\u001b[0m     \u001b[39m# force the figure dpi to 72), so we need to set it again here.\u001b[39;00m\n\u001b[0;32m   2337\u001b[0m     \u001b[39mwith\u001b[39;00m cbook\u001b[39m.\u001b[39m_setattr_cm(\u001b[39mself\u001b[39m\u001b[39m.\u001b[39mfigure, dpi\u001b[39m=\u001b[39mdpi):\n\u001b[1;32m-> 2338\u001b[0m         result \u001b[39m=\u001b[39m print_method(\n\u001b[0;32m   2339\u001b[0m             filename,\n\u001b[0;32m   2340\u001b[0m             facecolor\u001b[39m=\u001b[39mfacecolor,\n\u001b[0;32m   2341\u001b[0m             edgecolor\u001b[39m=\u001b[39medgecolor,\n\u001b[0;32m   2342\u001b[0m             orientation\u001b[39m=\u001b[39morientation,\n\u001b[0;32m   2343\u001b[0m             bbox_inches_restore\u001b[39m=\u001b[39m_bbox_inches_restore,\n\u001b[0;32m   2344\u001b[0m             \u001b[39m*\u001b[39m\u001b[39m*\u001b[39mkwargs)\n\u001b[0;32m   2345\u001b[0m \u001b[39mfinally\u001b[39;00m:\n\u001b[0;32m   2346\u001b[0m     \u001b[39mif\u001b[39;00m bbox_inches \u001b[39mand\u001b[39;00m restore_bbox:\n",
      "File \u001b[1;32mc:\\Users\\Kenny\\AppData\\Local\\Programs\\Python\\Python310\\lib\\site-packages\\matplotlib\\backend_bases.py:2204\u001b[0m, in \u001b[0;36mFigureCanvasBase._switch_canvas_and_return_print_method.<locals>.<lambda>\u001b[1;34m(*args, **kwargs)\u001b[0m\n\u001b[0;32m   2200\u001b[0m     optional_kws \u001b[39m=\u001b[39m {  \u001b[39m# Passed by print_figure for other renderers.\u001b[39;00m\n\u001b[0;32m   2201\u001b[0m         \u001b[39m\"\u001b[39m\u001b[39mdpi\u001b[39m\u001b[39m\"\u001b[39m, \u001b[39m\"\u001b[39m\u001b[39mfacecolor\u001b[39m\u001b[39m\"\u001b[39m, \u001b[39m\"\u001b[39m\u001b[39medgecolor\u001b[39m\u001b[39m\"\u001b[39m, \u001b[39m\"\u001b[39m\u001b[39morientation\u001b[39m\u001b[39m\"\u001b[39m,\n\u001b[0;32m   2202\u001b[0m         \u001b[39m\"\u001b[39m\u001b[39mbbox_inches_restore\u001b[39m\u001b[39m\"\u001b[39m}\n\u001b[0;32m   2203\u001b[0m     skip \u001b[39m=\u001b[39m optional_kws \u001b[39m-\u001b[39m {\u001b[39m*\u001b[39minspect\u001b[39m.\u001b[39msignature(meth)\u001b[39m.\u001b[39mparameters}\n\u001b[1;32m-> 2204\u001b[0m     print_method \u001b[39m=\u001b[39m functools\u001b[39m.\u001b[39mwraps(meth)(\u001b[39mlambda\u001b[39;00m \u001b[39m*\u001b[39margs, \u001b[39m*\u001b[39m\u001b[39m*\u001b[39mkwargs: meth(\n\u001b[0;32m   2205\u001b[0m         \u001b[39m*\u001b[39margs, \u001b[39m*\u001b[39m\u001b[39m*\u001b[39m{k: v \u001b[39mfor\u001b[39;00m k, v \u001b[39min\u001b[39;00m kwargs\u001b[39m.\u001b[39mitems() \u001b[39mif\u001b[39;00m k \u001b[39mnot\u001b[39;00m \u001b[39min\u001b[39;00m skip}))\n\u001b[0;32m   2206\u001b[0m \u001b[39melse\u001b[39;00m:  \u001b[39m# Let third-parties do as they see fit.\u001b[39;00m\n\u001b[0;32m   2207\u001b[0m     print_method \u001b[39m=\u001b[39m meth\n",
      "File \u001b[1;32mc:\\Users\\Kenny\\AppData\\Local\\Programs\\Python\\Python310\\lib\\site-packages\\matplotlib\\_api\\deprecation.py:410\u001b[0m, in \u001b[0;36mdelete_parameter.<locals>.wrapper\u001b[1;34m(*inner_args, **inner_kwargs)\u001b[0m\n\u001b[0;32m    400\u001b[0m     deprecation_addendum \u001b[39m=\u001b[39m (\n\u001b[0;32m    401\u001b[0m         \u001b[39mf\u001b[39m\u001b[39m\"\u001b[39m\u001b[39mIf any parameter follows \u001b[39m\u001b[39m{\u001b[39;00mname\u001b[39m!r}\u001b[39;00m\u001b[39m, they should be passed as \u001b[39m\u001b[39m\"\u001b[39m\n\u001b[0;32m    402\u001b[0m         \u001b[39mf\u001b[39m\u001b[39m\"\u001b[39m\u001b[39mkeyword, not positionally.\u001b[39m\u001b[39m\"\u001b[39m)\n\u001b[0;32m    403\u001b[0m     warn_deprecated(\n\u001b[0;32m    404\u001b[0m         since,\n\u001b[0;32m    405\u001b[0m         name\u001b[39m=\u001b[39m\u001b[39mrepr\u001b[39m(name),\n\u001b[1;32m   (...)\u001b[0m\n\u001b[0;32m    408\u001b[0m                  \u001b[39melse\u001b[39;00m deprecation_addendum,\n\u001b[0;32m    409\u001b[0m         \u001b[39m*\u001b[39m\u001b[39m*\u001b[39mkwargs)\n\u001b[1;32m--> 410\u001b[0m \u001b[39mreturn\u001b[39;00m func(\u001b[39m*\u001b[39minner_args, \u001b[39m*\u001b[39m\u001b[39m*\u001b[39minner_kwargs)\n",
      "File \u001b[1;32mc:\\Users\\Kenny\\AppData\\Local\\Programs\\Python\\Python310\\lib\\site-packages\\matplotlib\\backends\\backend_agg.py:520\u001b[0m, in \u001b[0;36mFigureCanvasAgg.print_png\u001b[1;34m(self, filename_or_obj, metadata, pil_kwargs, *args)\u001b[0m\n\u001b[0;32m    471\u001b[0m \u001b[39m@_api\u001b[39m\u001b[39m.\u001b[39mdelete_parameter(\u001b[39m\"\u001b[39m\u001b[39m3.5\u001b[39m\u001b[39m\"\u001b[39m, \u001b[39m\"\u001b[39m\u001b[39margs\u001b[39m\u001b[39m\"\u001b[39m)\n\u001b[0;32m    472\u001b[0m \u001b[39mdef\u001b[39;00m \u001b[39mprint_png\u001b[39m(\u001b[39mself\u001b[39m, filename_or_obj, \u001b[39m*\u001b[39margs,\n\u001b[0;32m    473\u001b[0m               metadata\u001b[39m=\u001b[39m\u001b[39mNone\u001b[39;00m, pil_kwargs\u001b[39m=\u001b[39m\u001b[39mNone\u001b[39;00m):\n\u001b[0;32m    474\u001b[0m \u001b[39m    \u001b[39m\u001b[39m\"\"\"\u001b[39;00m\n\u001b[0;32m    475\u001b[0m \u001b[39m    Write the figure to a PNG file.\u001b[39;00m\n\u001b[0;32m    476\u001b[0m \n\u001b[1;32m   (...)\u001b[0m\n\u001b[0;32m    518\u001b[0m \u001b[39m        *metadata*, including the default 'Software' key.\u001b[39;00m\n\u001b[0;32m    519\u001b[0m \u001b[39m    \"\"\"\u001b[39;00m\n\u001b[1;32m--> 520\u001b[0m     \u001b[39mself\u001b[39;49m\u001b[39m.\u001b[39;49m_print_pil(filename_or_obj, \u001b[39m\"\u001b[39;49m\u001b[39mpng\u001b[39;49m\u001b[39m\"\u001b[39;49m, pil_kwargs, metadata)\n",
      "File \u001b[1;32mc:\\Users\\Kenny\\AppData\\Local\\Programs\\Python\\Python310\\lib\\site-packages\\matplotlib\\backends\\backend_agg.py:466\u001b[0m, in \u001b[0;36mFigureCanvasAgg._print_pil\u001b[1;34m(self, filename_or_obj, fmt, pil_kwargs, metadata)\u001b[0m\n\u001b[0;32m    461\u001b[0m \u001b[39mdef\u001b[39;00m \u001b[39m_print_pil\u001b[39m(\u001b[39mself\u001b[39m, filename_or_obj, fmt, pil_kwargs, metadata\u001b[39m=\u001b[39m\u001b[39mNone\u001b[39;00m):\n\u001b[0;32m    462\u001b[0m \u001b[39m    \u001b[39m\u001b[39m\"\"\"\u001b[39;00m\n\u001b[0;32m    463\u001b[0m \u001b[39m    Draw the canvas, then save it using `.image.imsave` (to which\u001b[39;00m\n\u001b[0;32m    464\u001b[0m \u001b[39m    *pil_kwargs* and *metadata* are forwarded).\u001b[39;00m\n\u001b[0;32m    465\u001b[0m \u001b[39m    \"\"\"\u001b[39;00m\n\u001b[1;32m--> 466\u001b[0m     FigureCanvasAgg\u001b[39m.\u001b[39;49mdraw(\u001b[39mself\u001b[39;49m)\n\u001b[0;32m    467\u001b[0m     mpl\u001b[39m.\u001b[39mimage\u001b[39m.\u001b[39mimsave(\n\u001b[0;32m    468\u001b[0m         filename_or_obj, \u001b[39mself\u001b[39m\u001b[39m.\u001b[39mbuffer_rgba(), \u001b[39mformat\u001b[39m\u001b[39m=\u001b[39mfmt, origin\u001b[39m=\u001b[39m\u001b[39m\"\u001b[39m\u001b[39mupper\u001b[39m\u001b[39m\"\u001b[39m,\n\u001b[0;32m    469\u001b[0m         dpi\u001b[39m=\u001b[39m\u001b[39mself\u001b[39m\u001b[39m.\u001b[39mfigure\u001b[39m.\u001b[39mdpi, metadata\u001b[39m=\u001b[39mmetadata, pil_kwargs\u001b[39m=\u001b[39mpil_kwargs)\n",
      "File \u001b[1;32mc:\\Users\\Kenny\\AppData\\Local\\Programs\\Python\\Python310\\lib\\site-packages\\matplotlib\\backends\\backend_agg.py:408\u001b[0m, in \u001b[0;36mFigureCanvasAgg.draw\u001b[1;34m(self)\u001b[0m\n\u001b[0;32m    404\u001b[0m \u001b[39m# Acquire a lock on the shared font cache.\u001b[39;00m\n\u001b[0;32m    405\u001b[0m \u001b[39mwith\u001b[39;00m RendererAgg\u001b[39m.\u001b[39mlock, \\\n\u001b[0;32m    406\u001b[0m      (\u001b[39mself\u001b[39m\u001b[39m.\u001b[39mtoolbar\u001b[39m.\u001b[39m_wait_cursor_for_draw_cm() \u001b[39mif\u001b[39;00m \u001b[39mself\u001b[39m\u001b[39m.\u001b[39mtoolbar\n\u001b[0;32m    407\u001b[0m       \u001b[39melse\u001b[39;00m nullcontext()):\n\u001b[1;32m--> 408\u001b[0m     \u001b[39mself\u001b[39;49m\u001b[39m.\u001b[39;49mfigure\u001b[39m.\u001b[39;49mdraw(\u001b[39mself\u001b[39;49m\u001b[39m.\u001b[39;49mrenderer)\n\u001b[0;32m    409\u001b[0m     \u001b[39m# A GUI class may be need to update a window using this draw, so\u001b[39;00m\n\u001b[0;32m    410\u001b[0m     \u001b[39m# don't forget to call the superclass.\u001b[39;00m\n\u001b[0;32m    411\u001b[0m     \u001b[39msuper\u001b[39m()\u001b[39m.\u001b[39mdraw()\n",
      "File \u001b[1;32mc:\\Users\\Kenny\\AppData\\Local\\Programs\\Python\\Python310\\lib\\site-packages\\matplotlib\\artist.py:74\u001b[0m, in \u001b[0;36m_finalize_rasterization.<locals>.draw_wrapper\u001b[1;34m(artist, renderer, *args, **kwargs)\u001b[0m\n\u001b[0;32m     72\u001b[0m \u001b[39m@wraps\u001b[39m(draw)\n\u001b[0;32m     73\u001b[0m \u001b[39mdef\u001b[39;00m \u001b[39mdraw_wrapper\u001b[39m(artist, renderer, \u001b[39m*\u001b[39margs, \u001b[39m*\u001b[39m\u001b[39m*\u001b[39mkwargs):\n\u001b[1;32m---> 74\u001b[0m     result \u001b[39m=\u001b[39m draw(artist, renderer, \u001b[39m*\u001b[39margs, \u001b[39m*\u001b[39m\u001b[39m*\u001b[39mkwargs)\n\u001b[0;32m     75\u001b[0m     \u001b[39mif\u001b[39;00m renderer\u001b[39m.\u001b[39m_rasterizing:\n\u001b[0;32m     76\u001b[0m         renderer\u001b[39m.\u001b[39mstop_rasterizing()\n",
      "File \u001b[1;32mc:\\Users\\Kenny\\AppData\\Local\\Programs\\Python\\Python310\\lib\\site-packages\\matplotlib\\artist.py:51\u001b[0m, in \u001b[0;36mallow_rasterization.<locals>.draw_wrapper\u001b[1;34m(artist, renderer)\u001b[0m\n\u001b[0;32m     48\u001b[0m     \u001b[39mif\u001b[39;00m artist\u001b[39m.\u001b[39mget_agg_filter() \u001b[39mis\u001b[39;00m \u001b[39mnot\u001b[39;00m \u001b[39mNone\u001b[39;00m:\n\u001b[0;32m     49\u001b[0m         renderer\u001b[39m.\u001b[39mstart_filter()\n\u001b[1;32m---> 51\u001b[0m     \u001b[39mreturn\u001b[39;00m draw(artist, renderer)\n\u001b[0;32m     52\u001b[0m \u001b[39mfinally\u001b[39;00m:\n\u001b[0;32m     53\u001b[0m     \u001b[39mif\u001b[39;00m artist\u001b[39m.\u001b[39mget_agg_filter() \u001b[39mis\u001b[39;00m \u001b[39mnot\u001b[39;00m \u001b[39mNone\u001b[39;00m:\n",
      "File \u001b[1;32mc:\\Users\\Kenny\\AppData\\Local\\Programs\\Python\\Python310\\lib\\site-packages\\matplotlib\\figure.py:3069\u001b[0m, in \u001b[0;36mFigure.draw\u001b[1;34m(self, renderer)\u001b[0m\n\u001b[0;32m   3066\u001b[0m         \u001b[39m# ValueError can occur when resizing a window.\u001b[39;00m\n\u001b[0;32m   3068\u001b[0m \u001b[39mself\u001b[39m\u001b[39m.\u001b[39mpatch\u001b[39m.\u001b[39mdraw(renderer)\n\u001b[1;32m-> 3069\u001b[0m mimage\u001b[39m.\u001b[39;49m_draw_list_compositing_images(\n\u001b[0;32m   3070\u001b[0m     renderer, \u001b[39mself\u001b[39;49m, artists, \u001b[39mself\u001b[39;49m\u001b[39m.\u001b[39;49msuppressComposite)\n\u001b[0;32m   3072\u001b[0m \u001b[39mfor\u001b[39;00m sfig \u001b[39min\u001b[39;00m \u001b[39mself\u001b[39m\u001b[39m.\u001b[39msubfigs:\n\u001b[0;32m   3073\u001b[0m     sfig\u001b[39m.\u001b[39mdraw(renderer)\n",
      "File \u001b[1;32mc:\\Users\\Kenny\\AppData\\Local\\Programs\\Python\\Python310\\lib\\site-packages\\matplotlib\\image.py:131\u001b[0m, in \u001b[0;36m_draw_list_compositing_images\u001b[1;34m(renderer, parent, artists, suppress_composite)\u001b[0m\n\u001b[0;32m    129\u001b[0m \u001b[39mif\u001b[39;00m not_composite \u001b[39mor\u001b[39;00m \u001b[39mnot\u001b[39;00m has_images:\n\u001b[0;32m    130\u001b[0m     \u001b[39mfor\u001b[39;00m a \u001b[39min\u001b[39;00m artists:\n\u001b[1;32m--> 131\u001b[0m         a\u001b[39m.\u001b[39;49mdraw(renderer)\n\u001b[0;32m    132\u001b[0m \u001b[39melse\u001b[39;00m:\n\u001b[0;32m    133\u001b[0m     \u001b[39m# Composite any adjacent images together\u001b[39;00m\n\u001b[0;32m    134\u001b[0m     image_group \u001b[39m=\u001b[39m []\n",
      "File \u001b[1;32mc:\\Users\\Kenny\\AppData\\Local\\Programs\\Python\\Python310\\lib\\site-packages\\matplotlib\\artist.py:51\u001b[0m, in \u001b[0;36mallow_rasterization.<locals>.draw_wrapper\u001b[1;34m(artist, renderer)\u001b[0m\n\u001b[0;32m     48\u001b[0m     \u001b[39mif\u001b[39;00m artist\u001b[39m.\u001b[39mget_agg_filter() \u001b[39mis\u001b[39;00m \u001b[39mnot\u001b[39;00m \u001b[39mNone\u001b[39;00m:\n\u001b[0;32m     49\u001b[0m         renderer\u001b[39m.\u001b[39mstart_filter()\n\u001b[1;32m---> 51\u001b[0m     \u001b[39mreturn\u001b[39;00m draw(artist, renderer)\n\u001b[0;32m     52\u001b[0m \u001b[39mfinally\u001b[39;00m:\n\u001b[0;32m     53\u001b[0m     \u001b[39mif\u001b[39;00m artist\u001b[39m.\u001b[39mget_agg_filter() \u001b[39mis\u001b[39;00m \u001b[39mnot\u001b[39;00m \u001b[39mNone\u001b[39;00m:\n",
      "File \u001b[1;32mc:\\Users\\Kenny\\AppData\\Local\\Programs\\Python\\Python310\\lib\\site-packages\\mpl_toolkits\\mplot3d\\axes3d.py:462\u001b[0m, in \u001b[0;36mAxes3D.draw\u001b[1;34m(self, renderer)\u001b[0m\n\u001b[0;32m    459\u001b[0m         axis\u001b[39m.\u001b[39mdraw(renderer)\n\u001b[0;32m    461\u001b[0m \u001b[39m# Then rest\u001b[39;00m\n\u001b[1;32m--> 462\u001b[0m \u001b[39msuper\u001b[39;49m()\u001b[39m.\u001b[39;49mdraw(renderer)\n",
      "File \u001b[1;32mc:\\Users\\Kenny\\AppData\\Local\\Programs\\Python\\Python310\\lib\\site-packages\\matplotlib\\artist.py:51\u001b[0m, in \u001b[0;36mallow_rasterization.<locals>.draw_wrapper\u001b[1;34m(artist, renderer)\u001b[0m\n\u001b[0;32m     48\u001b[0m     \u001b[39mif\u001b[39;00m artist\u001b[39m.\u001b[39mget_agg_filter() \u001b[39mis\u001b[39;00m \u001b[39mnot\u001b[39;00m \u001b[39mNone\u001b[39;00m:\n\u001b[0;32m     49\u001b[0m         renderer\u001b[39m.\u001b[39mstart_filter()\n\u001b[1;32m---> 51\u001b[0m     \u001b[39mreturn\u001b[39;00m draw(artist, renderer)\n\u001b[0;32m     52\u001b[0m \u001b[39mfinally\u001b[39;00m:\n\u001b[0;32m     53\u001b[0m     \u001b[39mif\u001b[39;00m artist\u001b[39m.\u001b[39mget_agg_filter() \u001b[39mis\u001b[39;00m \u001b[39mnot\u001b[39;00m \u001b[39mNone\u001b[39;00m:\n",
      "File \u001b[1;32mc:\\Users\\Kenny\\AppData\\Local\\Programs\\Python\\Python310\\lib\\site-packages\\matplotlib\\axes\\_base.py:3106\u001b[0m, in \u001b[0;36m_AxesBase.draw\u001b[1;34m(self, renderer)\u001b[0m\n\u001b[0;32m   3103\u001b[0m         a\u001b[39m.\u001b[39mdraw(renderer)\n\u001b[0;32m   3104\u001b[0m     renderer\u001b[39m.\u001b[39mstop_rasterizing()\n\u001b[1;32m-> 3106\u001b[0m mimage\u001b[39m.\u001b[39;49m_draw_list_compositing_images(\n\u001b[0;32m   3107\u001b[0m     renderer, \u001b[39mself\u001b[39;49m, artists, \u001b[39mself\u001b[39;49m\u001b[39m.\u001b[39;49mfigure\u001b[39m.\u001b[39;49msuppressComposite)\n\u001b[0;32m   3109\u001b[0m renderer\u001b[39m.\u001b[39mclose_group(\u001b[39m'\u001b[39m\u001b[39maxes\u001b[39m\u001b[39m'\u001b[39m)\n\u001b[0;32m   3110\u001b[0m \u001b[39mself\u001b[39m\u001b[39m.\u001b[39mstale \u001b[39m=\u001b[39m \u001b[39mFalse\u001b[39;00m\n",
      "File \u001b[1;32mc:\\Users\\Kenny\\AppData\\Local\\Programs\\Python\\Python310\\lib\\site-packages\\matplotlib\\image.py:131\u001b[0m, in \u001b[0;36m_draw_list_compositing_images\u001b[1;34m(renderer, parent, artists, suppress_composite)\u001b[0m\n\u001b[0;32m    129\u001b[0m \u001b[39mif\u001b[39;00m not_composite \u001b[39mor\u001b[39;00m \u001b[39mnot\u001b[39;00m has_images:\n\u001b[0;32m    130\u001b[0m     \u001b[39mfor\u001b[39;00m a \u001b[39min\u001b[39;00m artists:\n\u001b[1;32m--> 131\u001b[0m         a\u001b[39m.\u001b[39;49mdraw(renderer)\n\u001b[0;32m    132\u001b[0m \u001b[39melse\u001b[39;00m:\n\u001b[0;32m    133\u001b[0m     \u001b[39m# Composite any adjacent images together\u001b[39;00m\n\u001b[0;32m    134\u001b[0m     image_group \u001b[39m=\u001b[39m []\n",
      "File \u001b[1;32mc:\\Users\\Kenny\\AppData\\Local\\Programs\\Python\\Python310\\lib\\site-packages\\mpl_toolkits\\mplot3d\\art3d.py:520\u001b[0m, in \u001b[0;36mPath3DCollection.draw\u001b[1;34m(self, renderer)\u001b[0m\n\u001b[0;32m    518\u001b[0m \u001b[39mdef\u001b[39;00m \u001b[39mdraw\u001b[39m(\u001b[39mself\u001b[39m, renderer):\n\u001b[0;32m    519\u001b[0m     \u001b[39mwith\u001b[39;00m cbook\u001b[39m.\u001b[39m_setattr_cm(\u001b[39mself\u001b[39m, _in_draw\u001b[39m=\u001b[39m\u001b[39mTrue\u001b[39;00m):\n\u001b[1;32m--> 520\u001b[0m         \u001b[39msuper\u001b[39;49m()\u001b[39m.\u001b[39;49mdraw(renderer)\n",
      "File \u001b[1;32mc:\\Users\\Kenny\\AppData\\Local\\Programs\\Python\\Python310\\lib\\site-packages\\matplotlib\\artist.py:51\u001b[0m, in \u001b[0;36mallow_rasterization.<locals>.draw_wrapper\u001b[1;34m(artist, renderer)\u001b[0m\n\u001b[0;32m     48\u001b[0m     \u001b[39mif\u001b[39;00m artist\u001b[39m.\u001b[39mget_agg_filter() \u001b[39mis\u001b[39;00m \u001b[39mnot\u001b[39;00m \u001b[39mNone\u001b[39;00m:\n\u001b[0;32m     49\u001b[0m         renderer\u001b[39m.\u001b[39mstart_filter()\n\u001b[1;32m---> 51\u001b[0m     \u001b[39mreturn\u001b[39;00m draw(artist, renderer)\n\u001b[0;32m     52\u001b[0m \u001b[39mfinally\u001b[39;00m:\n\u001b[0;32m     53\u001b[0m     \u001b[39mif\u001b[39;00m artist\u001b[39m.\u001b[39mget_agg_filter() \u001b[39mis\u001b[39;00m \u001b[39mnot\u001b[39;00m \u001b[39mNone\u001b[39;00m:\n",
      "File \u001b[1;32mc:\\Users\\Kenny\\AppData\\Local\\Programs\\Python\\Python310\\lib\\site-packages\\matplotlib\\collections.py:976\u001b[0m, in \u001b[0;36m_CollectionWithSizes.draw\u001b[1;34m(self, renderer)\u001b[0m\n\u001b[0;32m    973\u001b[0m \u001b[39m@artist\u001b[39m\u001b[39m.\u001b[39mallow_rasterization\n\u001b[0;32m    974\u001b[0m \u001b[39mdef\u001b[39;00m \u001b[39mdraw\u001b[39m(\u001b[39mself\u001b[39m, renderer):\n\u001b[0;32m    975\u001b[0m     \u001b[39mself\u001b[39m\u001b[39m.\u001b[39mset_sizes(\u001b[39mself\u001b[39m\u001b[39m.\u001b[39m_sizes, \u001b[39mself\u001b[39m\u001b[39m.\u001b[39mfigure\u001b[39m.\u001b[39mdpi)\n\u001b[1;32m--> 976\u001b[0m     \u001b[39msuper\u001b[39;49m()\u001b[39m.\u001b[39;49mdraw(renderer)\n",
      "File \u001b[1;32mc:\\Users\\Kenny\\AppData\\Local\\Programs\\Python\\Python310\\lib\\site-packages\\matplotlib\\artist.py:51\u001b[0m, in \u001b[0;36mallow_rasterization.<locals>.draw_wrapper\u001b[1;34m(artist, renderer)\u001b[0m\n\u001b[0;32m     48\u001b[0m     \u001b[39mif\u001b[39;00m artist\u001b[39m.\u001b[39mget_agg_filter() \u001b[39mis\u001b[39;00m \u001b[39mnot\u001b[39;00m \u001b[39mNone\u001b[39;00m:\n\u001b[0;32m     49\u001b[0m         renderer\u001b[39m.\u001b[39mstart_filter()\n\u001b[1;32m---> 51\u001b[0m     \u001b[39mreturn\u001b[39;00m draw(artist, renderer)\n\u001b[0;32m     52\u001b[0m \u001b[39mfinally\u001b[39;00m:\n\u001b[0;32m     53\u001b[0m     \u001b[39mif\u001b[39;00m artist\u001b[39m.\u001b[39mget_agg_filter() \u001b[39mis\u001b[39;00m \u001b[39mnot\u001b[39;00m \u001b[39mNone\u001b[39;00m:\n",
      "File \u001b[1;32mc:\\Users\\Kenny\\AppData\\Local\\Programs\\Python\\Python310\\lib\\site-packages\\matplotlib\\collections.py:410\u001b[0m, in \u001b[0;36mCollection.draw\u001b[1;34m(self, renderer)\u001b[0m\n\u001b[0;32m    406\u001b[0m     renderer\u001b[39m.\u001b[39mdraw_markers(\n\u001b[0;32m    407\u001b[0m         gc, paths[\u001b[39m0\u001b[39m], combined_transform\u001b[39m.\u001b[39mfrozen(),\n\u001b[0;32m    408\u001b[0m         mpath\u001b[39m.\u001b[39mPath(offsets), offset_trf, \u001b[39mtuple\u001b[39m(facecolors[\u001b[39m0\u001b[39m]))\n\u001b[0;32m    409\u001b[0m \u001b[39melse\u001b[39;00m:\n\u001b[1;32m--> 410\u001b[0m     renderer\u001b[39m.\u001b[39;49mdraw_path_collection(\n\u001b[0;32m    411\u001b[0m         gc, transform\u001b[39m.\u001b[39;49mfrozen(), paths,\n\u001b[0;32m    412\u001b[0m         \u001b[39mself\u001b[39;49m\u001b[39m.\u001b[39;49mget_transforms(), offsets, offset_trf,\n\u001b[0;32m    413\u001b[0m         \u001b[39mself\u001b[39;49m\u001b[39m.\u001b[39;49mget_facecolor(), \u001b[39mself\u001b[39;49m\u001b[39m.\u001b[39;49mget_edgecolor(),\n\u001b[0;32m    414\u001b[0m         \u001b[39mself\u001b[39;49m\u001b[39m.\u001b[39;49m_linewidths, \u001b[39mself\u001b[39;49m\u001b[39m.\u001b[39;49m_linestyles,\n\u001b[0;32m    415\u001b[0m         \u001b[39mself\u001b[39;49m\u001b[39m.\u001b[39;49m_antialiaseds, \u001b[39mself\u001b[39;49m\u001b[39m.\u001b[39;49m_urls,\n\u001b[0;32m    416\u001b[0m         \u001b[39m\"\u001b[39;49m\u001b[39mscreen\u001b[39;49m\u001b[39m\"\u001b[39;49m)  \u001b[39m# offset_position, kept for backcompat.\u001b[39;00m\n\u001b[0;32m    418\u001b[0m gc\u001b[39m.\u001b[39mrestore()\n\u001b[0;32m    419\u001b[0m renderer\u001b[39m.\u001b[39mclose_group(\u001b[39mself\u001b[39m\u001b[39m.\u001b[39m\u001b[39m__class__\u001b[39m\u001b[39m.\u001b[39m\u001b[39m__name__\u001b[39m)\n",
      "File \u001b[1;32mc:\\Users\\Kenny\\AppData\\Local\\Programs\\Python\\Python310\\lib\\site-packages\\matplotlib\\path.py:211\u001b[0m, in \u001b[0;36mPath.vertices\u001b[1;34m(self)\u001b[0m\n\u001b[0;32m    203\u001b[0m     \u001b[39mself\u001b[39m\u001b[39m.\u001b[39m_simplify_threshold \u001b[39m=\u001b[39m mpl\u001b[39m.\u001b[39mrcParams[\u001b[39m'\u001b[39m\u001b[39mpath.simplify_threshold\u001b[39m\u001b[39m'\u001b[39m]\n\u001b[0;32m    204\u001b[0m     \u001b[39mself\u001b[39m\u001b[39m.\u001b[39m_should_simplify \u001b[39m=\u001b[39m (\n\u001b[0;32m    205\u001b[0m         \u001b[39mself\u001b[39m\u001b[39m.\u001b[39m_simplify_threshold \u001b[39m>\u001b[39m \u001b[39m0\u001b[39m \u001b[39mand\u001b[39;00m\n\u001b[0;32m    206\u001b[0m         mpl\u001b[39m.\u001b[39mrcParams[\u001b[39m'\u001b[39m\u001b[39mpath.simplify\u001b[39m\u001b[39m'\u001b[39m] \u001b[39mand\u001b[39;00m\n\u001b[0;32m    207\u001b[0m         \u001b[39mlen\u001b[39m(\u001b[39mself\u001b[39m\u001b[39m.\u001b[39m_vertices) \u001b[39m>\u001b[39m\u001b[39m=\u001b[39m \u001b[39m128\u001b[39m \u001b[39mand\u001b[39;00m\n\u001b[0;32m    208\u001b[0m         (\u001b[39mself\u001b[39m\u001b[39m.\u001b[39m_codes \u001b[39mis\u001b[39;00m \u001b[39mNone\u001b[39;00m \u001b[39mor\u001b[39;00m np\u001b[39m.\u001b[39mall(\u001b[39mself\u001b[39m\u001b[39m.\u001b[39m_codes \u001b[39m<\u001b[39m\u001b[39m=\u001b[39m Path\u001b[39m.\u001b[39mLINETO))\n\u001b[0;32m    209\u001b[0m     )\n\u001b[1;32m--> 211\u001b[0m \u001b[39m@property\u001b[39m\n\u001b[0;32m    212\u001b[0m \u001b[39mdef\u001b[39;00m \u001b[39mvertices\u001b[39m(\u001b[39mself\u001b[39m):\n\u001b[0;32m    213\u001b[0m \u001b[39m    \u001b[39m\u001b[39m\"\"\"\u001b[39;00m\n\u001b[0;32m    214\u001b[0m \u001b[39m    The list of vertices in the `Path` as an Nx2 numpy array.\u001b[39;00m\n\u001b[0;32m    215\u001b[0m \u001b[39m    \"\"\"\u001b[39;00m\n\u001b[0;32m    216\u001b[0m     \u001b[39mreturn\u001b[39;00m \u001b[39mself\u001b[39m\u001b[39m.\u001b[39m_vertices\n",
      "\u001b[1;31mKeyboardInterrupt\u001b[0m: "
     ]
    }
   ],
   "source": [
    "# Generate scatterplot for the cleaned combined dataset\n",
    "fig, axes = plt.subplots(1, 2, figsize=(15, 8), subplot_kw={'projection': '3d'})\n",
    "\n",
    "# Cleaned Combined Dataset\n",
    "axes[0].scatter(df_combined_cleaned['SHUTTLECOCK POSITIION IN AIR(X) metres'], df_combined_cleaned['SHUTTLECOCK POSITIION IN AIR(Y) metres'], df_combined_cleaned['SHUTTLECOCK POSITIION IN AIR(Z) metres'], s=5)\n",
    "axes[0].set_xlabel('X')\n",
    "axes[0].set_ylabel('Y')\n",
    "axes[0].set_zlabel('Z')\n",
    "axes[0].set_title('Cleaned Combined Dataset')\n",
    "axes[0].grid(True)\n",
    "\n",
    "# Uncleaned Combined Dataset\n",
    "axes[1].scatter(df_combined['SHUTTLECOCK POSITIION IN AIR(X) metres'], df_combined['SHUTTLECOCK POSITIION IN AIR(Y) metres'], df_combined['SHUTTLECOCK POSITIION IN AIR(Z) metres'], s=5)\n",
    "axes[1].set_xlabel('X')\n",
    "axes[1].set_ylabel('Y')\n",
    "axes[1].set_zlabel('Z')\n",
    "axes[1].set_title('Uncleaned Combined Dataset')\n",
    "axes[1].grid(True)\n",
    "\n",
    "plt.tight_layout()\n",
    "plt.show()\n"
   ]
  },
  {
   "cell_type": "code",
   "execution_count": null,
   "metadata": {},
   "outputs": [
    {
     "name": "stdout",
     "output_type": "stream",
     "text": [
      "Two groups from train_groups:\n",
      "Group: 63153\n",
      "        HUMAN PLAYER POSITION (X) metres  HUMAN PLAYER POSITION (Y) metres  \\\n",
      "155400                                 4                                 1   \n",
      "155401                                 4                                 1   \n",
      "155402                                 4                                 1   \n",
      "155403                                 4                                 1   \n",
      "155404                                 4                                 1   \n",
      "...                                  ...                               ...   \n",
      "155548                                 4                                 1   \n",
      "155549                                 4                                 1   \n",
      "155550                                 4                                 1   \n",
      "155551                                 4                                 1   \n",
      "155552                                 4                                 1   \n",
      "\n",
      "        INITITAL VELOCITY OF SHUTTELCOCK(m/s)  \\\n",
      "155400                                     10   \n",
      "155401                                     10   \n",
      "155402                                     10   \n",
      "155403                                     10   \n",
      "155404                                     10   \n",
      "...                                       ...   \n",
      "155548                                     10   \n",
      "155549                                     10   \n",
      "155550                                     10   \n",
      "155551                                     10   \n",
      "155552                                     10   \n",
      "\n",
      "        INITIAL SHUTTELCOCK FIRING ANGLE (DEGREE)  \\\n",
      "155400                                         60   \n",
      "155401                                         60   \n",
      "155402                                         60   \n",
      "155403                                         60   \n",
      "155404                                         60   \n",
      "...                                           ...   \n",
      "155548                                         60   \n",
      "155549                                         60   \n",
      "155550                                         60   \n",
      "155551                                         60   \n",
      "155552                                         60   \n",
      "\n",
      "        SHUTTELCOCK SLANT ANGLE TO SIDELINE(DEGREE)  \\\n",
      "155400                                          -41   \n",
      "155401                                          -41   \n",
      "155402                                          -41   \n",
      "155403                                          -41   \n",
      "155404                                          -41   \n",
      "...                                             ...   \n",
      "155548                                          -41   \n",
      "155549                                          -41   \n",
      "155550                                          -41   \n",
      "155551                                          -41   \n",
      "155552                                          -41   \n",
      "\n",
      "        SHUTTLECOCK POSITIION IN AIR(X) metres  \\\n",
      "155400                                4.049012   \n",
      "155401                                4.099699   \n",
      "155402                                4.148521   \n",
      "155403                                4.198738   \n",
      "155404                                4.246939   \n",
      "...                                        ...   \n",
      "155548                                8.951008   \n",
      "155549                                8.970204   \n",
      "155550                                8.985173   \n",
      "155551                                9.000239   \n",
      "155552                                9.014719   \n",
      "\n",
      "        SHUTTLECOCK POSITIION IN AIR(Y) metres  \\\n",
      "155400                                0.957395   \n",
      "155401                                0.913333   \n",
      "155402                                0.870893   \n",
      "155403                                0.827240   \n",
      "155404                                0.785339   \n",
      "...                                        ...   \n",
      "155548                               -3.303845   \n",
      "155549                               -3.320532   \n",
      "155550                               -3.333545   \n",
      "155551                               -3.346641   \n",
      "155552                               -3.359229   \n",
      "\n",
      "        SHUTTLECOCK POSITIION IN AIR(Z) metres  TIME  SERVE_ID  HIGHEST_POINT  \n",
      "155400                                2.685690     0     63153       6.426411  \n",
      "155401                                2.770077    10     63153       6.426411  \n",
      "155402                                2.854290    20     63153       6.426411  \n",
      "155403                                2.934386    30     63153       6.426411  \n",
      "155404                                3.012884    40     63153       6.426411  \n",
      "...                                        ...   ...       ...            ...  \n",
      "155548                                1.098558  1480     63153       6.426411  \n",
      "155549                                0.870990  1490     63153       6.426411  \n",
      "155550                                0.639436  1500     63153       6.426411  \n",
      "155551                                0.400005  1510     63153       6.426411  \n",
      "155552                                0.152698  1520     63153       6.426411  \n",
      "\n",
      "[153 rows x 11 columns]\n",
      "\n",
      "\n",
      "Group: 14931\n",
      "       HUMAN PLAYER POSITION (X) metres  HUMAN PLAYER POSITION (Y) metres  \\\n",
      "48600                                 4                                 4   \n",
      "48601                                 4                                 4   \n",
      "48602                                 4                                 4   \n",
      "48603                                 4                                 4   \n",
      "48604                                 4                                 4   \n",
      "...                                 ...                               ...   \n",
      "48744                                 4                                 4   \n",
      "48745                                 4                                 4   \n",
      "48746                                 4                                 4   \n",
      "48747                                 4                                 4   \n",
      "48748                                 4                                 4   \n",
      "\n",
      "       INITITAL VELOCITY OF SHUTTELCOCK(m/s)  \\\n",
      "48600                                     10   \n",
      "48601                                     10   \n",
      "48602                                     10   \n",
      "48603                                     10   \n",
      "48604                                     10   \n",
      "...                                      ...   \n",
      "48744                                     10   \n",
      "48745                                     10   \n",
      "48746                                     10   \n",
      "48747                                     10   \n",
      "48748                                     10   \n",
      "\n",
      "       INITIAL SHUTTELCOCK FIRING ANGLE (DEGREE)  \\\n",
      "48600                                         60   \n",
      "48601                                         60   \n",
      "48602                                         60   \n",
      "48603                                         60   \n",
      "48604                                         60   \n",
      "...                                          ...   \n",
      "48744                                         60   \n",
      "48745                                         60   \n",
      "48746                                         60   \n",
      "48747                                         60   \n",
      "48748                                         60   \n",
      "\n",
      "       SHUTTELCOCK SLANT ANGLE TO SIDELINE(DEGREE)  \\\n",
      "48600                                            4   \n",
      "48601                                            4   \n",
      "48602                                            4   \n",
      "48603                                            4   \n",
      "48604                                            4   \n",
      "...                                            ...   \n",
      "48744                                            4   \n",
      "48745                                            4   \n",
      "48746                                            4   \n",
      "48747                                            4   \n",
      "48748                                            4   \n",
      "\n",
      "       SHUTTLECOCK POSITIION IN AIR(X) metres  \\\n",
      "48600                                4.049435   \n",
      "48601                                4.099134   \n",
      "48602                                4.148631   \n",
      "48603                                4.196934   \n",
      "48604                                4.247726   \n",
      "...                                       ...   \n",
      "48744                                8.885256   \n",
      "48745                                8.902299   \n",
      "48746                                8.918840   \n",
      "48747                                8.933644   \n",
      "48748                                8.953423   \n",
      "\n",
      "       SHUTTLECOCK POSITIION IN AIR(Y) metres  \\\n",
      "48600                                4.003457   \n",
      "48601                                4.006932   \n",
      "48602                                4.010393   \n",
      "48603                                4.013771   \n",
      "48604                                4.017323   \n",
      "...                                       ...   \n",
      "48744                                4.341610   \n",
      "48745                                4.342802   \n",
      "48746                                4.343959   \n",
      "48747                                4.344994   \n",
      "48748                                4.346377   \n",
      "\n",
      "       SHUTTLECOCK POSITIION IN AIR(Z) metres  TIME  SERVE_ID  HIGHEST_POINT  \n",
      "48600                                1.687007     0     14931       5.427715  \n",
      "48601                                1.770212    10     14931       5.427715  \n",
      "48602                                1.851704    20     14931       5.427715  \n",
      "48603                                1.933281    30     14931       5.427715  \n",
      "48604                                2.012855    40     14931       5.427715  \n",
      "...                                       ...   ...       ...            ...  \n",
      "48744                                0.941507  1440     14931       5.427715  \n",
      "48745                                0.738010  1450     14931       5.427715  \n",
      "48746                                0.530696  1460     14931       5.427715  \n",
      "48747                                0.318525  1470     14931       5.427715  \n",
      "48748                                0.097308  1480     14931       5.427715  \n",
      "\n",
      "[149 rows x 11 columns]\n",
      "\n",
      "\n",
      "Two groups from test_groups:\n",
      "Group: 93558\n",
      "        HUMAN PLAYER POSITION (X) metres  HUMAN PLAYER POSITION (Y) metres  \\\n",
      "249200                                 4                                 1   \n",
      "249201                                 4                                 1   \n",
      "249202                                 4                                 1   \n",
      "249203                                 4                                 1   \n",
      "249204                                 4                                 1   \n",
      "249205                                 4                                 1   \n",
      "249206                                 4                                 1   \n",
      "249207                                 4                                 1   \n",
      "249208                                 4                                 1   \n",
      "249209                                 4                                 1   \n",
      "249210                                 4                                 1   \n",
      "249211                                 4                                 1   \n",
      "249212                                 4                                 1   \n",
      "249213                                 4                                 1   \n",
      "249214                                 4                                 1   \n",
      "249215                                 4                                 1   \n",
      "249216                                 4                                 1   \n",
      "249217                                 4                                 1   \n",
      "249218                                 4                                 1   \n",
      "249219                                 4                                 1   \n",
      "249220                                 4                                 1   \n",
      "249221                                 4                                 1   \n",
      "249222                                 4                                 1   \n",
      "249223                                 4                                 1   \n",
      "249224                                 4                                 1   \n",
      "249225                                 4                                 1   \n",
      "249226                                 4                                 1   \n",
      "249227                                 4                                 1   \n",
      "249228                                 4                                 1   \n",
      "249229                                 4                                 1   \n",
      "249230                                 4                                 1   \n",
      "249231                                 4                                 1   \n",
      "249232                                 4                                 1   \n",
      "249233                                 4                                 1   \n",
      "249234                                 4                                 1   \n",
      "249235                                 4                                 1   \n",
      "249236                                 4                                 1   \n",
      "249237                                 4                                 1   \n",
      "249238                                 4                                 1   \n",
      "249239                                 4                                 1   \n",
      "\n",
      "        INITITAL VELOCITY OF SHUTTELCOCK(m/s)  \\\n",
      "249200                                     70   \n",
      "249201                                     70   \n",
      "249202                                     70   \n",
      "249203                                     70   \n",
      "249204                                     70   \n",
      "249205                                     70   \n",
      "249206                                     70   \n",
      "249207                                     70   \n",
      "249208                                     70   \n",
      "249209                                     70   \n",
      "249210                                     70   \n",
      "249211                                     70   \n",
      "249212                                     70   \n",
      "249213                                     70   \n",
      "249214                                     70   \n",
      "249215                                     70   \n",
      "249216                                     70   \n",
      "249217                                     70   \n",
      "249218                                     70   \n",
      "249219                                     70   \n",
      "249220                                     70   \n",
      "249221                                     70   \n",
      "249222                                     70   \n",
      "249223                                     70   \n",
      "249224                                     70   \n",
      "249225                                     70   \n",
      "249226                                     70   \n",
      "249227                                     70   \n",
      "249228                                     70   \n",
      "249229                                     70   \n",
      "249230                                     70   \n",
      "249231                                     70   \n",
      "249232                                     70   \n",
      "249233                                     70   \n",
      "249234                                     70   \n",
      "249235                                     70   \n",
      "249236                                     70   \n",
      "249237                                     70   \n",
      "249238                                     70   \n",
      "249239                                     70   \n",
      "\n",
      "        INITIAL SHUTTELCOCK FIRING ANGLE (DEGREE)  \\\n",
      "249200                                         70   \n",
      "249201                                         70   \n",
      "249202                                         70   \n",
      "249203                                         70   \n",
      "249204                                         70   \n",
      "249205                                         70   \n",
      "249206                                         70   \n",
      "249207                                         70   \n",
      "249208                                         70   \n",
      "249209                                         70   \n",
      "249210                                         70   \n",
      "249211                                         70   \n",
      "249212                                         70   \n",
      "249213                                         70   \n",
      "249214                                         70   \n",
      "249215                                         70   \n",
      "249216                                         70   \n",
      "249217                                         70   \n",
      "249218                                         70   \n",
      "249219                                         70   \n",
      "249220                                         70   \n",
      "249221                                         70   \n",
      "249222                                         70   \n",
      "249223                                         70   \n",
      "249224                                         70   \n",
      "249225                                         70   \n",
      "249226                                         70   \n",
      "249227                                         70   \n",
      "249228                                         70   \n",
      "249229                                         70   \n",
      "249230                                         70   \n",
      "249231                                         70   \n",
      "249232                                         70   \n",
      "249233                                         70   \n",
      "249234                                         70   \n",
      "249235                                         70   \n",
      "249236                                         70   \n",
      "249237                                         70   \n",
      "249238                                         70   \n",
      "249239                                         70   \n",
      "\n",
      "        SHUTTELCOCK SLANT ANGLE TO SIDELINE(DEGREE)  \\\n",
      "249200                                           24   \n",
      "249201                                           24   \n",
      "249202                                           24   \n",
      "249203                                           24   \n",
      "249204                                           24   \n",
      "249205                                           24   \n",
      "249206                                           24   \n",
      "249207                                           24   \n",
      "249208                                           24   \n",
      "249209                                           24   \n",
      "249210                                           24   \n",
      "249211                                           24   \n",
      "249212                                           24   \n",
      "249213                                           24   \n",
      "249214                                           24   \n",
      "249215                                           24   \n",
      "249216                                           24   \n",
      "249217                                           24   \n",
      "249218                                           24   \n",
      "249219                                           24   \n",
      "249220                                           24   \n",
      "249221                                           24   \n",
      "249222                                           24   \n",
      "249223                                           24   \n",
      "249224                                           24   \n",
      "249225                                           24   \n",
      "249226                                           24   \n",
      "249227                                           24   \n",
      "249228                                           24   \n",
      "249229                                           24   \n",
      "249230                                           24   \n",
      "249231                                           24   \n",
      "249232                                           24   \n",
      "249233                                           24   \n",
      "249234                                           24   \n",
      "249235                                           24   \n",
      "249236                                           24   \n",
      "249237                                           24   \n",
      "249238                                           24   \n",
      "249239                                           24   \n",
      "\n",
      "        SHUTTLECOCK POSITIION IN AIR(X) metres  \\\n",
      "249200                                4.236689   \n",
      "249201                                4.467730   \n",
      "249202                                4.695518   \n",
      "249203                                4.915834   \n",
      "249204                                5.131854   \n",
      "249205                                5.343503   \n",
      "249206                                5.548693   \n",
      "249207                                5.748842   \n",
      "249208                                5.945784   \n",
      "249209                                6.138500   \n",
      "249210                                6.321097   \n",
      "249211                                6.501238   \n",
      "249212                                6.677092   \n",
      "249213                                6.846062   \n",
      "249214                                7.011320   \n",
      "249215                                7.170812   \n",
      "249216                                7.323515   \n",
      "249217                                7.471992   \n",
      "249218                                7.616735   \n",
      "249219                                7.754730   \n",
      "249220                                7.889210   \n",
      "249221                                8.016251   \n",
      "249222                                8.142788   \n",
      "249223                                8.259999   \n",
      "249224                                8.372056   \n",
      "249225                                8.479975   \n",
      "249226                                8.583363   \n",
      "249227                                8.682307   \n",
      "249228                                8.770571   \n",
      "249229                                8.860988   \n",
      "249230                                8.943731   \n",
      "249231                                9.018485   \n",
      "249232                                9.090928   \n",
      "249233                                9.156233   \n",
      "249234                                9.218781   \n",
      "249235                                9.275052   \n",
      "249236                                9.326817   \n",
      "249237                                9.373579   \n",
      "249238                                9.413551   \n",
      "249239                                9.446648   \n",
      "\n",
      "        SHUTTLECOCK POSITIION IN AIR(Y) metres  \\\n",
      "249200                                1.105381   \n",
      "249201                                1.208247   \n",
      "249202                                1.309664   \n",
      "249203                                1.407756   \n",
      "249204                                1.503934   \n",
      "249205                                1.598166   \n",
      "249206                                1.689523   \n",
      "249207                                1.778635   \n",
      "249208                                1.866319   \n",
      "249209                                1.952122   \n",
      "249210                                2.033419   \n",
      "249211                                2.113623   \n",
      "249212                                2.191918   \n",
      "249213                                2.267149   \n",
      "249214                                2.340726   \n",
      "249215                                2.411737   \n",
      "249216                                2.479724   \n",
      "249217                                2.545831   \n",
      "249218                                2.610274   \n",
      "249219                                2.671714   \n",
      "249220                                2.731588   \n",
      "249221                                2.788150   \n",
      "249222                                2.844488   \n",
      "249223                                2.896674   \n",
      "249224                                2.946565   \n",
      "249225                                2.994613   \n",
      "249226                                3.040645   \n",
      "249227                                3.084697   \n",
      "249228                                3.123995   \n",
      "249229                                3.164251   \n",
      "249230                                3.201091   \n",
      "249231                                3.234374   \n",
      "249232                                3.266627   \n",
      "249233                                3.295703   \n",
      "249234                                3.323551   \n",
      "249235                                3.348604   \n",
      "249236                                3.371652   \n",
      "249237                                3.392471   \n",
      "249238                                3.410268   \n",
      "249239                                3.425004   \n",
      "\n",
      "        SHUTTLECOCK POSITIION IN AIR(Z) metres  TIME  SERVE_ID  HIGHEST_POINT  \n",
      "249200                                3.237934     0     93558       8.305648  \n",
      "249201                                3.838663    10     93558       8.305648  \n",
      "249202                                4.396367    20     93558       8.305648  \n",
      "249203                                4.914789    30     93558       8.305648  \n",
      "249204                                5.396509    40     93558       8.305648  \n",
      "249205                                5.839606    50     93558       8.305648  \n",
      "249206                                6.244241    60     93558       8.305648  \n",
      "249207                                6.613685    70     93558       8.305648  \n",
      "249208                                6.944477    80     93558       8.305648  \n",
      "249209                                7.238339    90     93558       8.305648  \n",
      "249210                                7.498347   100     93558       8.305648  \n",
      "249211                                7.717885   110     93558       8.305648  \n",
      "249212                                7.904439   120     93558       8.305648  \n",
      "249213                                8.054427   130     93558       8.305648  \n",
      "249214                                8.169412   140     93558       8.305648  \n",
      "249215                                8.249921   150     93558       8.305648  \n",
      "249216                                8.293734   160     93558       8.305648  \n",
      "249217                                8.305648   170     93558       8.305648  \n",
      "249218                                8.283253   180     93558       8.305648  \n",
      "249219                                8.229586   190     93558       8.305648  \n",
      "249220                                8.139294   200     93558       8.305648  \n",
      "249221                                8.016414   210     93558       8.305648  \n",
      "249222                                7.863389   220     93558       8.305648  \n",
      "249223                                7.675456   230     93558       8.305648  \n",
      "249224                                7.456937   240     93558       8.305648  \n",
      "249225                                7.206963   250     93558       8.305648  \n",
      "249226                                6.925727   260     93558       8.305648  \n",
      "249227                                6.613748   270     93558       8.305648  \n",
      "249228                                6.271134   280     93558       8.305648  \n",
      "249229                                5.898482   290     93558       8.305648  \n",
      "249230                                5.494702   300     93558       8.305648  \n",
      "249231                                5.062491   310     93558       8.305648  \n",
      "249232                                4.600703   320     93558       8.305648  \n",
      "249233                                4.108408   330     93558       8.305648  \n",
      "249234                                3.589768   340     93558       8.305648  \n",
      "249235                                3.041631   350     93558       8.305648  \n",
      "249236                                2.466033   360     93558       8.305648  \n",
      "249237                                1.860114   370     93558       8.305648  \n",
      "249238                                1.231447   380     93558       8.305648  \n",
      "249239                                0.572514   390     93558       8.305648  \n",
      "\n",
      "\n",
      "Group: 64845\n",
      "        HUMAN PLAYER POSITION (X) metres  HUMAN PLAYER POSITION (Y) metres  \\\n",
      "162600                                 4                                 1   \n",
      "162601                                 4                                 1   \n",
      "162602                                 4                                 1   \n",
      "162603                                 4                                 1   \n",
      "162604                                 4                                 1   \n",
      "...                                  ...                               ...   \n",
      "162748                                 4                                 1   \n",
      "162749                                 4                                 1   \n",
      "162750                                 4                                 1   \n",
      "162751                                 4                                 1   \n",
      "162752                                 4                                 1   \n",
      "\n",
      "        INITITAL VELOCITY OF SHUTTELCOCK(m/s)  \\\n",
      "162600                                     10   \n",
      "162601                                     10   \n",
      "162602                                     10   \n",
      "162603                                     10   \n",
      "162604                                     10   \n",
      "...                                       ...   \n",
      "162748                                     10   \n",
      "162749                                     10   \n",
      "162750                                     10   \n",
      "162751                                     10   \n",
      "162752                                     10   \n",
      "\n",
      "        INITIAL SHUTTELCOCK FIRING ANGLE (DEGREE)  \\\n",
      "162600                                         60   \n",
      "162601                                         60   \n",
      "162602                                         60   \n",
      "162603                                         60   \n",
      "162604                                         60   \n",
      "...                                           ...   \n",
      "162748                                         60   \n",
      "162749                                         60   \n",
      "162750                                         60   \n",
      "162751                                         60   \n",
      "162752                                         60   \n",
      "\n",
      "        SHUTTELCOCK SLANT ANGLE TO SIDELINE(DEGREE)  \\\n",
      "162600                                           -5   \n",
      "162601                                           -5   \n",
      "162602                                           -5   \n",
      "162603                                           -5   \n",
      "162604                                           -5   \n",
      "...                                             ...   \n",
      "162748                                           -5   \n",
      "162749                                           -5   \n",
      "162750                                           -5   \n",
      "162751                                           -5   \n",
      "162752                                           -5   \n",
      "\n",
      "        SHUTTLECOCK POSITIION IN AIR(X) metres  \\\n",
      "162600                                4.049892   \n",
      "162601                                4.099598   \n",
      "162602                                4.147003   \n",
      "162603                                4.199222   \n",
      "162604                                4.247039   \n",
      "...                                        ...   \n",
      "162748                                8.952054   \n",
      "162749                                8.968753   \n",
      "162750                                8.983296   \n",
      "162751                                8.999059   \n",
      "162752                                9.015874   \n",
      "\n",
      "        SHUTTLECOCK POSITIION IN AIR(Y) metres  \\\n",
      "162600                                0.995635   \n",
      "162601                                0.991286   \n",
      "162602                                0.987139   \n",
      "162603                                0.982570   \n",
      "162604                                0.978387   \n",
      "...                                        ...   \n",
      "162748                                0.566751   \n",
      "162749                                0.565290   \n",
      "162750                                0.564018   \n",
      "162751                                0.562639   \n",
      "162752                                0.561168   \n",
      "\n",
      "        SHUTTLECOCK POSITIION IN AIR(Z) metres  TIME  SERVE_ID  HIGHEST_POINT  \n",
      "162600                                2.685106     0     64845        6.42781  \n",
      "162601                                2.770844    10     64845        6.42781  \n",
      "162602                                2.852598    20     64845        6.42781  \n",
      "162603                                2.933652    30     64845        6.42781  \n",
      "162604                                3.014412    40     64845        6.42781  \n",
      "...                                        ...   ...       ...            ...  \n",
      "162748                                1.096042  1480     64845        6.42781  \n",
      "162749                                0.871128  1490     64845        6.42781  \n",
      "162750                                0.637994  1500     64845        6.42781  \n",
      "162751                                0.397907  1510     64845        6.42781  \n",
      "162752                                0.152434  1520     64845        6.42781  \n",
      "\n",
      "[153 rows x 11 columns]\n",
      "\n",
      "\n"
     ]
    }
   ],
   "source": [
    "import numpy as np\n",
    "import pandas as pd\n",
    "from sklearn.model_selection import train_test_split\n",
    "\n",
    "# Group the data before each group of zeros\n",
    "grouped_df = df_combined_cleaned.groupby(groups, group_keys=False)\n",
    "\n",
    "# Function to add a Time field and SERVE_ID to a group\n",
    "def add_time_and_serve_id(group):\n",
    "    group['TIME'] = np.arange(len(group)) * 10  # Multiply by 10 to get time in ms\n",
    "    group['SERVE_ID'] = group.name  # Assign the group name as the SERVE_ID\n",
    "\n",
    "    # Reset time to 0 at the start of each group\n",
    "    group.loc[group.index[0], 'TIME'] = 0\n",
    "    \n",
    "    return group\n",
    "\n",
    "# Apply a TIME-based transformation and add SERVE_ID to each group\n",
    "grouped_df = grouped_df.apply(add_time_and_serve_id)\n",
    "\n",
    "# Extract unique groups\n",
    "serve_ids = grouped_df['SERVE_ID'].unique()\n",
    "\n",
    "# Drop duplicated groups\n",
    "serve_ids = np.unique(serve_ids)\n",
    "\n",
    "# Split the groups into testing set and sample set (split into a testing set and a sample set using a 70:30 ratio)\n",
    "train_groups, test_groups = train_test_split(serve_ids, test_size=0.3, random_state=42)\n",
    "\n",
    "# Create the training set with highest point labels\n",
    "train_data = []\n",
    "for group in train_groups:\n",
    "    group_data = grouped_df[grouped_df['SERVE_ID'] == group].copy()\n",
    "    highest_point = group_data['SHUTTLECOCK POSITIION IN AIR(Z) metres'].max()\n",
    "    group_data['HIGHEST_POINT'] = highest_point\n",
    "    train_data.append(group_data)\n",
    "\n",
    "train_df = pd.concat(train_data)\n",
    "\n",
    "# Create the testing set with highest point labels\n",
    "test_data = []\n",
    "for group in test_groups:\n",
    "    group_data = grouped_df[grouped_df['SERVE_ID'] == group].copy()\n",
    "    highest_point = group_data['SHUTTLECOCK POSITIION IN AIR(Z) metres'].max()\n",
    "    group_data['HIGHEST_POINT'] = highest_point\n",
    "    test_data.append(group_data)\n",
    "\n",
    "test_df = pd.concat(test_data)\n",
    "\n",
    "# Print two groups from train_groups\n",
    "print(\"Two groups from train_groups:\")\n",
    "for group in train_groups[:2]:\n",
    "    print(f\"Group: {group}\")\n",
    "    print(train_df[train_df['SERVE_ID'] == group])\n",
    "    print(\"\\n\")\n",
    "\n",
    "# Print two groups from test_groups\n",
    "print(\"Two groups from test_groups:\")\n",
    "for group in test_groups[:2]:\n",
    "    print(f\"Group: {group}\")\n",
    "    print(test_df[test_df['SERVE_ID'] == group])\n",
    "    print(\"\\n\")"
   ]
  },
  {
   "cell_type": "code",
   "execution_count": null,
   "metadata": {},
   "outputs": [
    {
     "name": "stdout",
     "output_type": "stream",
     "text": [
      "Group 94198:\n",
      "       HUMAN PLAYER POSITION (X) metres  HUMAN PLAYER POSITION (Y) metres  \\\n",
      "90256                                 4                                 1   \n",
      "90257                                 4                                 1   \n",
      "90258                                 4                                 1   \n",
      "90259                                 4                                 1   \n",
      "90260                                 4                                 1   \n",
      "90261                                 4                                 1   \n",
      "90262                                 4                                 1   \n",
      "90263                                 4                                 1   \n",
      "90264                                 4                                 1   \n",
      "90265                                 4                                 1   \n",
      "90266                                 4                                 1   \n",
      "90267                                 4                                 1   \n",
      "90268                                 4                                 1   \n",
      "90269                                 4                                 1   \n",
      "90270                                 4                                 1   \n",
      "90271                                 4                                 1   \n",
      "90272                                 4                                 1   \n",
      "90273                                 4                                 1   \n",
      "90274                                 4                                 1   \n",
      "90275                                 4                                 1   \n",
      "90276                                 4                                 1   \n",
      "90277                                 4                                 1   \n",
      "90278                                 4                                 1   \n",
      "90279                                 4                                 1   \n",
      "90280                                 4                                 1   \n",
      "90281                                 4                                 1   \n",
      "90282                                 4                                 1   \n",
      "90283                                 4                                 1   \n",
      "90284                                 4                                 1   \n",
      "90285                                 4                                 1   \n",
      "90286                                 4                                 1   \n",
      "90287                                 4                                 1   \n",
      "90288                                 4                                 1   \n",
      "90289                                 4                                 1   \n",
      "90290                                 4                                 1   \n",
      "90291                                 4                                 1   \n",
      "90292                                 4                                 1   \n",
      "90293                                 4                                 1   \n",
      "90294                                 4                                 1   \n",
      "90295                                 4                                 1   \n",
      "\n",
      "       INITITAL VELOCITY OF SHUTTELCOCK(m/s)  \\\n",
      "90256                                     70   \n",
      "90257                                     70   \n",
      "90258                                     70   \n",
      "90259                                     70   \n",
      "90260                                     70   \n",
      "90261                                     70   \n",
      "90262                                     70   \n",
      "90263                                     70   \n",
      "90264                                     70   \n",
      "90265                                     70   \n",
      "90266                                     70   \n",
      "90267                                     70   \n",
      "90268                                     70   \n",
      "90269                                     70   \n",
      "90270                                     70   \n",
      "90271                                     70   \n",
      "90272                                     70   \n",
      "90273                                     70   \n",
      "90274                                     70   \n",
      "90275                                     70   \n",
      "90276                                     70   \n",
      "90277                                     70   \n",
      "90278                                     70   \n",
      "90279                                     70   \n",
      "90280                                     70   \n",
      "90281                                     70   \n",
      "90282                                     70   \n",
      "90283                                     70   \n",
      "90284                                     70   \n",
      "90285                                     70   \n",
      "90286                                     70   \n",
      "90287                                     70   \n",
      "90288                                     70   \n",
      "90289                                     70   \n",
      "90290                                     70   \n",
      "90291                                     70   \n",
      "90292                                     70   \n",
      "90293                                     70   \n",
      "90294                                     70   \n",
      "90295                                     70   \n",
      "\n",
      "       INITIAL SHUTTELCOCK FIRING ANGLE (DEGREE)  \\\n",
      "90256                                         70   \n",
      "90257                                         70   \n",
      "90258                                         70   \n",
      "90259                                         70   \n",
      "90260                                         70   \n",
      "90261                                         70   \n",
      "90262                                         70   \n",
      "90263                                         70   \n",
      "90264                                         70   \n",
      "90265                                         70   \n",
      "90266                                         70   \n",
      "90267                                         70   \n",
      "90268                                         70   \n",
      "90269                                         70   \n",
      "90270                                         70   \n",
      "90271                                         70   \n",
      "90272                                         70   \n",
      "90273                                         70   \n",
      "90274                                         70   \n",
      "90275                                         70   \n",
      "90276                                         70   \n",
      "90277                                         70   \n",
      "90278                                         70   \n",
      "90279                                         70   \n",
      "90280                                         70   \n",
      "90281                                         70   \n",
      "90282                                         70   \n",
      "90283                                         70   \n",
      "90284                                         70   \n",
      "90285                                         70   \n",
      "90286                                         70   \n",
      "90287                                         70   \n",
      "90288                                         70   \n",
      "90289                                         70   \n",
      "90290                                         70   \n",
      "90291                                         70   \n",
      "90292                                         70   \n",
      "90293                                         70   \n",
      "90294                                         70   \n",
      "90295                                         70   \n",
      "\n",
      "       SHUTTELCOCK SLANT ANGLE TO SIDELINE(DEGREE)  \\\n",
      "90256                                           28   \n",
      "90257                                           28   \n",
      "90258                                           28   \n",
      "90259                                           28   \n",
      "90260                                           28   \n",
      "90261                                           28   \n",
      "90262                                           28   \n",
      "90263                                           28   \n",
      "90264                                           28   \n",
      "90265                                           28   \n",
      "90266                                           28   \n",
      "90267                                           28   \n",
      "90268                                           28   \n",
      "90269                                           28   \n",
      "90270                                           28   \n",
      "90271                                           28   \n",
      "90272                                           28   \n",
      "90273                                           28   \n",
      "90274                                           28   \n",
      "90275                                           28   \n",
      "90276                                           28   \n",
      "90277                                           28   \n",
      "90278                                           28   \n",
      "90279                                           28   \n",
      "90280                                           28   \n",
      "90281                                           28   \n",
      "90282                                           28   \n",
      "90283                                           28   \n",
      "90284                                           28   \n",
      "90285                                           28   \n",
      "90286                                           28   \n",
      "90287                                           28   \n",
      "90288                                           28   \n",
      "90289                                           28   \n",
      "90290                                           28   \n",
      "90291                                           28   \n",
      "90292                                           28   \n",
      "90293                                           28   \n",
      "90294                                           28   \n",
      "90295                                           28   \n",
      "\n",
      "       SHUTTLECOCK POSITIION IN AIR(X) metres  \\\n",
      "90256                                4.235885   \n",
      "90257                                4.466664   \n",
      "90258                                4.694174   \n",
      "90259                                4.915207   \n",
      "90260                                5.133571   \n",
      "90261                                5.343929   \n",
      "90262                                5.551521   \n",
      "90263                                5.750589   \n",
      "90264                                5.945164   \n",
      "90265                                6.134522   \n",
      "90266                                6.321373   \n",
      "90267                                6.500728   \n",
      "90268                                6.675966   \n",
      "90269                                6.846711   \n",
      "90270                                7.008760   \n",
      "90271                                7.170968   \n",
      "90272                                7.324561   \n",
      "90273                                7.473309   \n",
      "90274                                7.616383   \n",
      "90275                                7.755760   \n",
      "90276                                7.891071   \n",
      "90277                                8.018691   \n",
      "90278                                8.140078   \n",
      "90279                                8.259804   \n",
      "90280                                8.373181   \n",
      "90281                                8.478702   \n",
      "90282                                8.582645   \n",
      "90283                                8.681108   \n",
      "90284                                8.773594   \n",
      "90285                                8.861094   \n",
      "90286                                8.943013   \n",
      "90287                                9.018833   \n",
      "90288                                9.091811   \n",
      "90289                                9.158434   \n",
      "90290                                9.217127   \n",
      "90291                                9.277145   \n",
      "90292                                9.327385   \n",
      "90293                                9.372717   \n",
      "90294                                9.414234   \n",
      "90295                                9.449871   \n",
      "\n",
      "       SHUTTLECOCK POSITIION IN AIR(Y) metres  \\\n",
      "90256                                1.125422   \n",
      "90257                                1.248130   \n",
      "90258                                1.369099   \n",
      "90259                                1.486624   \n",
      "90260                                1.602731   \n",
      "90261                                1.714580   \n",
      "90262                                1.824959   \n",
      "90263                                1.930805   \n",
      "90264                                2.034262   \n",
      "90265                                2.134946   \n",
      "90266                                2.234296   \n",
      "90267                                2.329661   \n",
      "90268                                2.422836   \n",
      "90269                                2.513623   \n",
      "90270                                2.599786   \n",
      "90271                                2.686033   \n",
      "90272                                2.767700   \n",
      "90273                                2.846791   \n",
      "90274                                2.922865   \n",
      "90275                                2.996973   \n",
      "90276                                3.068919   \n",
      "90277                                3.136776   \n",
      "90278                                3.201319   \n",
      "90279                                3.264978   \n",
      "90280                                3.325261   \n",
      "90281                                3.381368   \n",
      "90282                                3.436636   \n",
      "90283                                3.488989   \n",
      "90284                                3.538165   \n",
      "90285                                3.584690   \n",
      "90286                                3.628246   \n",
      "90287                                3.668561   \n",
      "90288                                3.707364   \n",
      "90289                                3.742788   \n",
      "90290                                3.773996   \n",
      "90291                                3.805908   \n",
      "90292                                3.832621   \n",
      "90293                                3.856724   \n",
      "90294                                3.878799   \n",
      "90295                                3.897748   \n",
      "\n",
      "       SHUTTLECOCK POSITIION IN AIR(Z) metres  TIME  SERVE_ID  HIGHEST_POINT  \n",
      "90256                                3.237602     0     94198       8.308024  \n",
      "90257                                3.836210    10     94198       8.308024  \n",
      "90258                                4.395680    20     94198       8.308024  \n",
      "90259                                4.914455    30     94198       8.308024  \n",
      "90260                                5.398530    40     94198       8.308024  \n",
      "90261                                5.842227    50     94198       8.308024  \n",
      "90262                                6.245657    60     94198       8.308024  \n",
      "90263                                6.615012    70     94198       8.308024  \n",
      "90264                                6.944884    80     94198       8.308024  \n",
      "90265                                7.240081    90     94198       8.308024  \n",
      "90266                                7.495911   100     94198       8.308024  \n",
      "90267                                7.718965   110     94198       8.308024  \n",
      "90268                                7.905589   120     94198       8.308024  \n",
      "90269                                8.053890   130     94198       8.308024  \n",
      "90270                                8.169208   140     94198       8.308024  \n",
      "90271                                8.249757   150     94198       8.308024  \n",
      "90272                                8.295812   160     94198       8.308024  \n",
      "90273                                8.308024   170     94198       8.308024  \n",
      "90274                                8.283393   180     94198       8.308024  \n",
      "90275                                8.226096   190     94198       8.308024  \n",
      "90276                                8.138110   200     94198       8.308024  \n",
      "90277                                8.015948   210     94198       8.308024  \n",
      "90278                                7.860406   220     94198       8.308024  \n",
      "90279                                7.675122   230     94198       8.308024  \n",
      "90280                                7.457840   240     94198       8.308024  \n",
      "90281                                7.207621   250     94198       8.308024  \n",
      "90282                                6.926331   260     94198       8.308024  \n",
      "90283                                6.613400   270     94198       8.308024  \n",
      "90284                                6.272312   280     94198       8.308024  \n",
      "90285                                5.897266   290     94198       8.308024  \n",
      "90286                                5.493556   300     94198       8.308024  \n",
      "90287                                5.062721   310     94198       8.308024  \n",
      "90288                                4.598273   320     94198       8.308024  \n",
      "90289                                4.108336   330     94198       8.308024  \n",
      "90290                                3.589190   340     94198       8.308024  \n",
      "90291                                3.041959   350     94198       8.308024  \n",
      "90292                                2.464784   360     94198       8.308024  \n",
      "90293                                1.859842   370     94198       8.308024  \n",
      "90294                                1.230146   380     94198       8.308024  \n",
      "90295                                0.571321   390     94198       8.308024  \n",
      "\n",
      "Group 72318:\n",
      "       HUMAN PLAYER POSITION (X) metres  HUMAN PLAYER POSITION (Y) metres  \\\n",
      "99322                                 4                                 3   \n",
      "99323                                 4                                 3   \n",
      "99324                                 4                                 3   \n",
      "99325                                 4                                 3   \n",
      "99326                                 4                                 3   \n",
      "...                                 ...                               ...   \n",
      "99470                                 4                                 3   \n",
      "99471                                 4                                 3   \n",
      "99472                                 4                                 3   \n",
      "99473                                 4                                 3   \n",
      "99474                                 4                                 3   \n",
      "\n",
      "       INITITAL VELOCITY OF SHUTTELCOCK(m/s)  \\\n",
      "99322                                     10   \n",
      "99323                                     10   \n",
      "99324                                     10   \n",
      "99325                                     10   \n",
      "99326                                     10   \n",
      "...                                      ...   \n",
      "99470                                     10   \n",
      "99471                                     10   \n",
      "99472                                     10   \n",
      "99473                                     10   \n",
      "99474                                     10   \n",
      "\n",
      "       INITIAL SHUTTELCOCK FIRING ANGLE (DEGREE)  \\\n",
      "99322                                         60   \n",
      "99323                                         60   \n",
      "99324                                         60   \n",
      "99325                                         60   \n",
      "99326                                         60   \n",
      "...                                          ...   \n",
      "99470                                         60   \n",
      "99471                                         60   \n",
      "99472                                         60   \n",
      "99473                                         60   \n",
      "99474                                         60   \n",
      "\n",
      "       SHUTTELCOCK SLANT ANGLE TO SIDELINE(DEGREE)  \\\n",
      "99322                                          -48   \n",
      "99323                                          -48   \n",
      "99324                                          -48   \n",
      "99325                                          -48   \n",
      "99326                                          -48   \n",
      "...                                            ...   \n",
      "99470                                          -48   \n",
      "99471                                          -48   \n",
      "99472                                          -48   \n",
      "99473                                          -48   \n",
      "99474                                          -48   \n",
      "\n",
      "       SHUTTLECOCK POSITIION IN AIR(X) metres  \\\n",
      "99322                                4.049215   \n",
      "99323                                4.100305   \n",
      "99324                                4.148088   \n",
      "99325                                4.198662   \n",
      "99326                                4.247233   \n",
      "...                                       ...   \n",
      "99470                                8.950654   \n",
      "99471                                8.969058   \n",
      "99472                                8.985155   \n",
      "99473                                9.000105   \n",
      "99474                                9.017103   \n",
      "\n",
      "       SHUTTLECOCK POSITIION IN AIR(Y) metres  \\\n",
      "99322                                2.945341   \n",
      "99323                                2.888600   \n",
      "99324                                2.835531   \n",
      "99325                                2.779363   \n",
      "99326                                2.725420   \n",
      "...                                       ...   \n",
      "99470                               -2.498258   \n",
      "99471                               -2.518698   \n",
      "99472                               -2.536576   \n",
      "99473                               -2.553179   \n",
      "99474                               -2.572058   \n",
      "\n",
      "       SHUTTLECOCK POSITIION IN AIR(Z) metres  TIME  SERVE_ID  HIGHEST_POINT  \n",
      "99322                                2.684910     0     72318        6.42728  \n",
      "99323                                2.770733    10     72318        6.42728  \n",
      "99324                                2.852313    20     72318        6.42728  \n",
      "99325                                2.934827    30     72318        6.42728  \n",
      "99326                                3.013531    40     72318        6.42728  \n",
      "...                                       ...   ...       ...            ...  \n",
      "99470                                1.097243  1480     72318        6.42728  \n",
      "99471                                0.873001  1490     72318        6.42728  \n",
      "99472                                0.637571  1500     72318        6.42728  \n",
      "99473                                0.399422  1510     72318        6.42728  \n",
      "99474                                0.152680  1520     72318        6.42728  \n",
      "\n",
      "[153 rows x 11 columns]\n",
      "\n"
     ]
    }
   ],
   "source": [
    "import random\n",
    "\n",
    "# Combine fields into a single dataframe\n",
    "combined_group = pd.concat([train_df, test_df])\n",
    "\n",
    "# Reset the index of the combined group\n",
    "combined_group.reset_index(drop=True, inplace=True)\n",
    "\n",
    "# Select two random groups from the combined group dataframe\n",
    "random_groups = random.sample(list(combined_group['SERVE_ID'].unique()), 2)\n",
    "\n",
    "# Print data for the randomly selected groups\n",
    "for group_id in random_groups:\n",
    "    group_data = combined_group.loc[combined_group['SERVE_ID'] == group_id]\n",
    "    print(f\"Group {group_id}:\")\n",
    "    print(group_data)\n",
    "    print()\n"
   ]
  },
  {
   "cell_type": "code",
   "execution_count": null,
   "metadata": {},
   "outputs": [
    {
     "name": "stdout",
     "output_type": "stream",
     "text": [
      "Model training completed.\n",
      "[[4.23687767 1.10811352 3.237729   8.30647256]\n",
      " [4.46859883 1.21461333 3.83632634 8.30621842]\n",
      " [4.69483481 1.3093399  4.39529014 8.30643768]\n",
      " ...\n",
      " [9.45997578 4.01796945 0.4152388  4.70929688]\n",
      " [9.4700262  4.02520348 0.21178097 4.70865513]\n",
      " [9.47773795 4.0514825  0.04483117 4.70860991]]\n",
      "Predictions made.\n",
      "Mean Squared Error (MSE): 0.0014753850703025891\n",
      "Mean Absolute Error (MAE): 0.00766650558298571\n",
      "R-squared Score (R2): 0.9991733622510727\n",
      "Explained Variance Score (EV): 0.9991733804089951\n",
      "Model saved as regression_model.joblib.\n"
     ]
    }
   ],
   "source": [
    "import pandas as pd\n",
    "from sklearn.ensemble import RandomForestRegressor\n",
    "from sklearn.metrics import mean_squared_error, mean_absolute_error, r2_score, explained_variance_score\n",
    "import joblib\n",
    "\n",
    "# Define the features and target variables\n",
    "features = ['SHUTTLECOCK POSITIION IN AIR(X) metres', 'SHUTTLECOCK POSITIION IN AIR(Y) metres', 'SHUTTLECOCK POSITIION IN AIR(Z) metres']\n",
    "target = ['SHUTTLECOCK POSITIION IN AIR(X) metres', 'SHUTTLECOCK POSITIION IN AIR(Y) metres', 'SHUTTLECOCK POSITIION IN AIR(Z) metres', 'HIGHEST_POINT']\n",
    "\n",
    "# Create the training and testing datasets\n",
    "train_data = train_df[features]\n",
    "train_target = train_df[target]\n",
    "test_data = test_df[features]\n",
    "test_target = test_df[target]\n",
    "\n",
    "# Create and train the RandomForestRegressor model\n",
    "model = RandomForestRegressor()\n",
    "model.fit(train_data, train_target)\n",
    "print(\"Model training completed.\")\n",
    "\n",
    "# Make predictions on the testing dataset\n",
    "predictions = model.predict(test_data)\n",
    "print(predictions)\n",
    "print(\"Predictions made.\")\n",
    "\n",
    "# Evaluate the model's performance\n",
    "mse = mean_squared_error(test_target, predictions)\n",
    "mae = mean_absolute_error(test_target, predictions)\n",
    "r2 = r2_score(test_target, predictions)\n",
    "ev = explained_variance_score(test_target, predictions)\n",
    "\n",
    "print(\"Mean Squared Error (MSE):\", mse)\n",
    "print(\"Mean Absolute Error (MAE):\", mae)\n",
    "print(\"R-squared Score (R2):\", r2)\n",
    "print(\"Explained Variance Score (EV):\", ev)\n",
    "\n",
    "# Export the model\n",
    "joblib.dump(model, 'regression_model.joblib')\n",
    "print(\"Model saved as regression_model.joblib.\")\n"
   ]
  },
  {
   "cell_type": "code",
   "execution_count": null,
   "metadata": {},
   "outputs": [
    {
     "name": "stdout",
     "output_type": "stream",
     "text": [
      "Predictions: [[4.46854414 2.98757209 3.82812667 8.28603516]]\n"
     ]
    },
    {
     "name": "stderr",
     "output_type": "stream",
     "text": [
      "c:\\Users\\Kenny\\AppData\\Local\\Programs\\Python\\Python310\\lib\\site-packages\\sklearn\\base.py:439: UserWarning:\n",
      "\n",
      "X does not have valid feature names, but RandomForestRegressor was fitted with feature names\n",
      "\n"
     ]
    }
   ],
   "source": [
    "# Load the saved model\n",
    "model = joblib.load('regression_model.joblib')\n",
    "\n",
    "# Example test data with 3 features\n",
    "test_data = [[2.5, 1.2, 3.8]]  # Update with your own test data\n",
    "\n",
    "# Make predictions on the test data\n",
    "predictions = model.predict(test_data)\n",
    "\n",
    "# Print the predictions\n",
    "print(f\"Predictions: {predictions}\")"
   ]
  },
  {
   "cell_type": "code",
   "execution_count": null,
   "metadata": {},
   "outputs": [
    {
     "name": "stdout",
     "output_type": "stream",
     "text": [
      "Closest Group 131478:\n",
      "       HUMAN PLAYER POSITION (X) metres  HUMAN PLAYER POSITION (Y) metres  \\\n",
      "92608                                 4                                 4   \n",
      "92609                                 4                                 4   \n",
      "92610                                 4                                 4   \n",
      "92611                                 4                                 4   \n",
      "92612                                 4                                 4   \n",
      "92613                                 4                                 4   \n",
      "92614                                 4                                 4   \n",
      "92615                                 4                                 4   \n",
      "92616                                 4                                 4   \n",
      "92617                                 4                                 4   \n",
      "92618                                 4                                 4   \n",
      "92619                                 4                                 4   \n",
      "92620                                 4                                 4   \n",
      "92621                                 4                                 4   \n",
      "92622                                 4                                 4   \n",
      "92623                                 4                                 4   \n",
      "92624                                 4                                 4   \n",
      "92625                                 4                                 4   \n",
      "92626                                 4                                 4   \n",
      "92627                                 4                                 4   \n",
      "92628                                 4                                 4   \n",
      "92629                                 4                                 4   \n",
      "92630                                 4                                 4   \n",
      "92631                                 4                                 4   \n",
      "92632                                 4                                 4   \n",
      "92633                                 4                                 4   \n",
      "92634                                 4                                 4   \n",
      "92635                                 4                                 4   \n",
      "92636                                 4                                 4   \n",
      "92637                                 4                                 4   \n",
      "92638                                 4                                 4   \n",
      "92639                                 4                                 4   \n",
      "92640                                 4                                 4   \n",
      "92641                                 4                                 4   \n",
      "92642                                 4                                 4   \n",
      "92643                                 4                                 4   \n",
      "92644                                 4                                 4   \n",
      "92645                                 4                                 4   \n",
      "92646                                 4                                 4   \n",
      "92647                                 4                                 4   \n",
      "\n",
      "       INITITAL VELOCITY OF SHUTTELCOCK(m/s)  \\\n",
      "92608                                     70   \n",
      "92609                                     70   \n",
      "92610                                     70   \n",
      "92611                                     70   \n",
      "92612                                     70   \n",
      "92613                                     70   \n",
      "92614                                     70   \n",
      "92615                                     70   \n",
      "92616                                     70   \n",
      "92617                                     70   \n",
      "92618                                     70   \n",
      "92619                                     70   \n",
      "92620                                     70   \n",
      "92621                                     70   \n",
      "92622                                     70   \n",
      "92623                                     70   \n",
      "92624                                     70   \n",
      "92625                                     70   \n",
      "92626                                     70   \n",
      "92627                                     70   \n",
      "92628                                     70   \n",
      "92629                                     70   \n",
      "92630                                     70   \n",
      "92631                                     70   \n",
      "92632                                     70   \n",
      "92633                                     70   \n",
      "92634                                     70   \n",
      "92635                                     70   \n",
      "92636                                     70   \n",
      "92637                                     70   \n",
      "92638                                     70   \n",
      "92639                                     70   \n",
      "92640                                     70   \n",
      "92641                                     70   \n",
      "92642                                     70   \n",
      "92643                                     70   \n",
      "92644                                     70   \n",
      "92645                                     70   \n",
      "92646                                     70   \n",
      "92647                                     70   \n",
      "\n",
      "       INITIAL SHUTTELCOCK FIRING ANGLE (DEGREE)  \\\n",
      "92608                                         70   \n",
      "92609                                         70   \n",
      "92610                                         70   \n",
      "92611                                         70   \n",
      "92612                                         70   \n",
      "92613                                         70   \n",
      "92614                                         70   \n",
      "92615                                         70   \n",
      "92616                                         70   \n",
      "92617                                         70   \n",
      "92618                                         70   \n",
      "92619                                         70   \n",
      "92620                                         70   \n",
      "92621                                         70   \n",
      "92622                                         70   \n",
      "92623                                         70   \n",
      "92624                                         70   \n",
      "92625                                         70   \n",
      "92626                                         70   \n",
      "92627                                         70   \n",
      "92628                                         70   \n",
      "92629                                         70   \n",
      "92630                                         70   \n",
      "92631                                         70   \n",
      "92632                                         70   \n",
      "92633                                         70   \n",
      "92634                                         70   \n",
      "92635                                         70   \n",
      "92636                                         70   \n",
      "92637                                         70   \n",
      "92638                                         70   \n",
      "92639                                         70   \n",
      "92640                                         70   \n",
      "92641                                         70   \n",
      "92642                                         70   \n",
      "92643                                         70   \n",
      "92644                                         70   \n",
      "92645                                         70   \n",
      "92646                                         70   \n",
      "92647                                         70   \n",
      "\n",
      "       SHUTTELCOCK SLANT ANGLE TO SIDELINE(DEGREE)  \\\n",
      "92608                                          -42   \n",
      "92609                                          -42   \n",
      "92610                                          -42   \n",
      "92611                                          -42   \n",
      "92612                                          -42   \n",
      "92613                                          -42   \n",
      "92614                                          -42   \n",
      "92615                                          -42   \n",
      "92616                                          -42   \n",
      "92617                                          -42   \n",
      "92618                                          -42   \n",
      "92619                                          -42   \n",
      "92620                                          -42   \n",
      "92621                                          -42   \n",
      "92622                                          -42   \n",
      "92623                                          -42   \n",
      "92624                                          -42   \n",
      "92625                                          -42   \n",
      "92626                                          -42   \n",
      "92627                                          -42   \n",
      "92628                                          -42   \n",
      "92629                                          -42   \n",
      "92630                                          -42   \n",
      "92631                                          -42   \n",
      "92632                                          -42   \n",
      "92633                                          -42   \n",
      "92634                                          -42   \n",
      "92635                                          -42   \n",
      "92636                                          -42   \n",
      "92637                                          -42   \n",
      "92638                                          -42   \n",
      "92639                                          -42   \n",
      "92640                                          -42   \n",
      "92641                                          -42   \n",
      "92642                                          -42   \n",
      "92643                                          -42   \n",
      "92644                                          -42   \n",
      "92645                                          -42   \n",
      "92646                                          -42   \n",
      "92647                                          -42   \n",
      "\n",
      "       SHUTTLECOCK POSITIION IN AIR(X) metres  \\\n",
      "92608                                4.236506   \n",
      "92609                                4.469443   \n",
      "92610                                4.696491   \n",
      "92611                                4.916020   \n",
      "92612                                5.131072   \n",
      "92613                                5.343712   \n",
      "92614                                5.550440   \n",
      "92615                                5.751318   \n",
      "92616                                5.945861   \n",
      "92617                                6.136899   \n",
      "92618                                6.320581   \n",
      "92619                                6.501407   \n",
      "92620                                6.677041   \n",
      "92621                                6.845153   \n",
      "92622                                7.010534   \n",
      "92623                                7.170873   \n",
      "92624                                7.325689   \n",
      "92625                                7.474185   \n",
      "92626                                7.616962   \n",
      "92627                                7.756520   \n",
      "92628                                7.888604   \n",
      "92629                                8.018556   \n",
      "92630                                8.142463   \n",
      "92631                                8.260960   \n",
      "92632                                8.372177   \n",
      "92633                                8.481230   \n",
      "92634                                8.584502   \n",
      "92635                                8.679030   \n",
      "92636                                8.772085   \n",
      "92637                                8.861472   \n",
      "92638                                8.943514   \n",
      "92639                                9.017959   \n",
      "92640                                9.092637   \n",
      "92641                                9.156142   \n",
      "92642                                9.220868   \n",
      "92643                                9.276816   \n",
      "92644                                9.325474   \n",
      "92645                                9.371298   \n",
      "92646                                9.413765   \n",
      "92647                                9.449575   \n",
      "\n",
      "       SHUTTLECOCK POSITIION IN AIR(Y) metres  \\\n",
      "92608                                3.787049   \n",
      "92609                                3.577311   \n",
      "92610                                3.372877   \n",
      "92611                                3.175212   \n",
      "92612                                2.981578   \n",
      "92613                                2.790116   \n",
      "92614                                2.603978   \n",
      "92615                                2.423106   \n",
      "92616                                2.247939   \n",
      "92617                                2.075927   \n",
      "92618                                1.910540   \n",
      "92619                                1.747723   \n",
      "92620                                1.589581   \n",
      "92621                                1.438213   \n",
      "92622                                1.289303   \n",
      "92623                                1.144933   \n",
      "92624                                1.005536   \n",
      "92625                                0.871830   \n",
      "92626                                0.743273   \n",
      "92627                                0.617614   \n",
      "92628                                0.498685   \n",
      "92629                                0.381676   \n",
      "92630                                0.270110   \n",
      "92631                                0.163415   \n",
      "92632                                0.063274   \n",
      "92633                               -0.034917   \n",
      "92634                               -0.127905   \n",
      "92635                               -0.213017   \n",
      "92636                               -0.296805   \n",
      "92637                               -0.377289   \n",
      "92638                               -0.451160   \n",
      "92639                               -0.518190   \n",
      "92640                               -0.585431   \n",
      "92641                               -0.642611   \n",
      "92642                               -0.700890   \n",
      "92643                               -0.751266   \n",
      "92644                               -0.795079   \n",
      "92645                               -0.836339   \n",
      "92646                               -0.874575   \n",
      "92647                               -0.906820   \n",
      "\n",
      "       SHUTTLECOCK POSITIION IN AIR(Z) metres  TIME  SERVE_ID  HIGHEST_POINT  \n",
      "92608                                3.237044     0    131478       8.302799  \n",
      "92609                                3.837826    10    131478       8.302799  \n",
      "92610                                4.395304    20    131478       8.302799  \n",
      "92611                                4.913930    30    131478       8.302799  \n",
      "92612                                5.398724    40    131478       8.302799  \n",
      "92613                                5.841992    50    131478       8.302799  \n",
      "92614                                6.246660    60    131478       8.302799  \n",
      "92615                                6.613168    70    131478       8.302799  \n",
      "92616                                6.944755    80    131478       8.302799  \n",
      "92617                                7.239739    90    131478       8.302799  \n",
      "92618                                7.495941   100    131478       8.302799  \n",
      "92619                                7.717239   110    131478       8.302799  \n",
      "92620                                7.903150   120    131478       8.302799  \n",
      "92621                                8.052488   130    131478       8.302799  \n",
      "92622                                8.168038   140    131478       8.302799  \n",
      "92623                                8.248864   150    131478       8.302799  \n",
      "92624                                8.293508   160    131478       8.302799  \n",
      "92625                                8.302799   170    131478       8.302799  \n",
      "92626                                8.283478   180    131478       8.302799  \n",
      "92627                                8.228386   190    131478       8.302799  \n",
      "92628                                8.138924   200    131478       8.302799  \n",
      "92629                                8.016861   210    131478       8.302799  \n",
      "92630                                7.863082   220    131478       8.302799  \n",
      "92631                                7.675938   230    131478       8.302799  \n",
      "92632                                7.456642   240    131478       8.302799  \n",
      "92633                                7.207006   250    131478       8.302799  \n",
      "92634                                6.924287   260    131478       8.302799  \n",
      "92635                                6.614523   270    131478       8.302799  \n",
      "92636                                6.270245   280    131478       8.302799  \n",
      "92637                                5.897176   290    131478       8.302799  \n",
      "92638                                5.495679   300    131478       8.302799  \n",
      "92639                                5.061605   310    131478       8.302799  \n",
      "92640                                4.599605   320    131478       8.302799  \n",
      "92641                                4.109485   330    131478       8.302799  \n",
      "92642                                3.589218   340    131478       8.302799  \n",
      "92643                                3.042369   350    131478       8.302799  \n",
      "92644                                2.466145   360    131478       8.302799  \n",
      "92645                                1.862877   370    131478       8.302799  \n",
      "92646                                1.231259   380    131478       8.302799  \n",
      "92647                                0.571133   390    131478       8.302799  \n",
      "Row Number: 18\n",
      "Total Time (Highest Point to End): 210 ms\n"
     ]
    }
   ],
   "source": [
    "import matplotlib.pyplot as plt\n",
    "from mpl_toolkits.mplot3d import Axes3D\n",
    "import numpy as np\n",
    "\n",
    "# Find the group with the closest accuracy to the predicted_highest_point\n",
    "closest_group_id = None\n",
    "min_difference = float('inf')\n",
    "\n",
    "# Loop through the combined_group dataframe\n",
    "for group_id in combined_group['SERVE_ID'].unique():\n",
    "    predicted_highest_point = predictions[0][3]  # [0][3] is the predicted highest point\n",
    "    group_data = combined_group[combined_group['SERVE_ID'] == group_id]\n",
    "    group_highest_point = group_data['HIGHEST_POINT'].iloc[0]\n",
    "\n",
    "    difference = np.abs(group_highest_point - predicted_highest_point)\n",
    "\n",
    "    # Check if the current group has a smaller difference than the previous minimum\n",
    "    if np.any(difference < min_difference):\n",
    "        closest_group_id = group_id\n",
    "        min_difference = np.min(difference)\n",
    "\n",
    "# Output the group data for the closest group\n",
    "closest_group_data = combined_group[combined_group['SERVE_ID'] == closest_group_id]\n",
    "print(f\"Closest Group {closest_group_id}:\")\n",
    "print(closest_group_data)\n",
    "\n",
    "# Find the index where the highest point is equal to SHUTTLECOCK POSITIION IN AIR(Z) meters\n",
    "start_index = closest_group_data[closest_group_data['HIGHEST_POINT'] == closest_group_data['SHUTTLECOCK POSITIION IN AIR(Z) metres']].index[0]\n",
    "\n",
    "# Get the row number by subtracting the first row index from the start_index\n",
    "row_number = start_index - closest_group_data.index[0] + 1\n",
    "\n",
    "print(f\"Row Number: {row_number}\")\n",
    "\n",
    "# Get the time at the end of the group\n",
    "end_time = closest_group_data['TIME'].iloc[-1]\n",
    "\n",
    "# Get the time at the highest point\n",
    "highest_point_time = closest_group_data['TIME'].iloc[row_number]\n",
    "\n",
    "# Calculate the total time taken from the highest point to the end of the group\n",
    "total_time = end_time - highest_point_time\n",
    "\n",
    "print(f\"Total Time (Highest Point to End): {total_time} ms\")\n"
   ]
  },
  {
   "cell_type": "code",
   "execution_count": null,
   "metadata": {},
   "outputs": [
    {
     "data": {
      "image/png": "[encoded data removed]",
      "text/plain": [
       "<Figure size 1200x600 with 2 Axes>"
      ]
     },
     "metadata": {},
     "output_type": "display_data"
    },
    {
     "data": {
      "image/png": "[encoded data removed]",
      "text/plain": [
       "<Figure size 1000x600 with 1 Axes>"
      ]
     },
     "metadata": {},
     "output_type": "display_data"
    },
    {
     "data": {
      "image/png": "[encoded data removed]",
      "text/plain": [
       "<Figure size 1000x600 with 1 Axes>"
      ]
     },
     "metadata": {},
     "output_type": "display_data"
    }
   ],
   "source": [
    "# Get the maximum values for x, y, and z coordinates\n",
    "max_x = max(\n",
    "    max(closest_group_data['SHUTTLECOCK POSITIION IN AIR(X) metres'][row_number:]),\n",
    "    max(closest_group_data['SHUTTLECOCK POSITIION IN AIR(X) metres'])\n",
    ")\n",
    "max_y = max(\n",
    "    max(closest_group_data['SHUTTLECOCK POSITIION IN AIR(Y) metres'][row_number:]),\n",
    "    max(closest_group_data['SHUTTLECOCK POSITIION IN AIR(Y) metres'])\n",
    ")\n",
    "max_z = max(\n",
    "    max(closest_group_data['SHUTTLECOCK POSITIION IN AIR(Z) metres'][row_number:]),\n",
    "    max(closest_group_data['SHUTTLECOCK POSITIION IN AIR(Z) metres'])\n",
    ")\n",
    "\n",
    "# Plot the shuttlecock position coordinates in 3D scatter plot from the highest point to the end of the group\n",
    "fig = plt.figure(figsize=(12, 6))\n",
    "\n",
    "# Plot fig1 - Shuttlecock Position (Highest Point to End)\n",
    "ax1 = fig.add_subplot(121, projection='3d')\n",
    "ax1.scatter(\n",
    "    closest_group_data['SHUTTLECOCK POSITIION IN AIR(X) metres'][row_number:],\n",
    "    closest_group_data['SHUTTLECOCK POSITIION IN AIR(Y) metres'][row_number:],\n",
    "    closest_group_data['SHUTTLECOCK POSITIION IN AIR(Z) metres'][row_number:]\n",
    ")\n",
    "ax1.set_xlabel('X')\n",
    "ax1.set_ylabel('Y')\n",
    "ax1.set_zlabel('Z')\n",
    "ax1.set_title(f'Closest Group {closest_group_id} - Shuttlecock Position (Highest Point to End)')\n",
    "ax1.set_xlim(0, max_x)\n",
    "ax1.set_ylim(0, max_y)\n",
    "ax1.set_zlim(0, max_z)\n",
    "ax1.view_init(elev=20, azim=-45)  # Adjust the view angle here\n",
    "\n",
    "# Plot fig2 - Shuttlecock Position (Start to End)\n",
    "ax2 = fig.add_subplot(122, projection='3d')\n",
    "ax2.scatter(\n",
    "    closest_group_data['SHUTTLECOCK POSITIION IN AIR(X) metres'],\n",
    "    closest_group_data['SHUTTLECOCK POSITIION IN AIR(Y) metres'],\n",
    "    closest_group_data['SHUTTLECOCK POSITIION IN AIR(Z) metres']\n",
    ")\n",
    "ax2.set_xlabel('X')\n",
    "ax2.set_ylabel('Y')\n",
    "ax2.set_zlabel('Z')\n",
    "ax2.set_title(f'Closest Group {closest_group_id} - Shuttlecock Position (Start to End)')\n",
    "ax2.set_xlim(0, max_x)\n",
    "ax2.set_ylim(0, max_y)\n",
    "ax2.set_zlim(0, max_z)\n",
    "ax2.view_init(elev=20, azim=-45)  # Adjust the view angle here\n",
    "\n",
    "\n",
    "# Plot the shuttlecock position Z, slant angle, and time in a 3D scatter plot\n",
    "fig = plt.figure(figsize=(10, 6))\n",
    "ax3 = fig.add_subplot(111, projection='3d')\n",
    "ax3.set_xlim(0, closest_group_data['TIME'].max())\n",
    "ax3.scatter(closest_group_data['TIME'], closest_group_data['SHUTTELCOCK SLANT ANGLE TO SIDELINE(DEGREE)'], closest_group_data['SHUTTLECOCK POSITIION IN AIR(Z) metres'])\n",
    "ax3.set_xlabel('Time (ms)')\n",
    "ax3.set_ylabel('Z Position')\n",
    "ax3.set_zlabel('Slant Angle')\n",
    "ax3.set_title(f'Closest Group {closest_group_id} - Shuttlecock Position Z (Start to End), Slant Angle, and Time')\n",
    "\n",
    "# Plot the shuttlecock position Z, slant angle, and time in a 3D scatter plot (highest point to the end of the group)\n",
    "fig = plt.figure(figsize=(10, 6))\n",
    "ax4 = fig.add_subplot(111, projection='3d')\n",
    "ax4.set_xlim(0, closest_group_data['TIME'].max())\n",
    "ax4.scatter(closest_group_data['TIME'][row_number:], closest_group_data['SHUTTELCOCK SLANT ANGLE TO SIDELINE(DEGREE)'][row_number:], closest_group_data['SHUTTLECOCK POSITIION IN AIR(Z) metres'][row_number:])\n",
    "ax4.set_xlabel('Time (ms)')\n",
    "ax4.set_ylabel('Z Position')\n",
    "ax4.set_zlabel('Slant Angle')\n",
    "ax4.set_title(f'Closest Group {closest_group_id} - Shuttlecock Position Z (highest point to the end of the group), Slant Angle, and Time')\n",
    "\n",
    "plt.show()\n"
   ]
  },
  {
   "cell_type": "code",
   "execution_count": 116,
   "metadata": {},
   "outputs": [
    {
     "name": "stderr",
     "output_type": "stream",
     "text": [
      "c:\\Users\\Kenny\\AppData\\Local\\Programs\\Python\\Python310\\lib\\site-packages\\sklearn\\base.py:439: UserWarning:\n",
      "\n",
      "X does not have valid feature names, but RandomForestRegressor was fitted with feature names\n",
      "\n"
     ]
    },
    {
     "name": "stdout",
     "output_type": "stream",
     "text": [
      "Highest Point (x, y, z): 4 1.3 4.069554346790005\n",
      "Dist 1.7524232797178354\n",
      "Robot travel time:  0.8762116398589177\n",
      "Moving the robot from (11.04, 2.59) to (9.347248058, 2.136592662)\n",
      "Robot reached the predicted shuttlecock position.\n",
      "Time taken from the predicted highest point to before the shuttlecock hits the ground: 550 ms\n",
      "Hitting back the shuttlecock at point: 0.848475391\n",
      "Robot's final position: (9.347248058, 2.136592662)\n",
      "--------------------\n"
     ]
    },
    {
     "data": {
      "application/vnd.plotly.v1+json": {
       "config": {
        "plotlyServerURL": "https://plot.ly"
       },
       "data": [
        {
         "marker": {
          "color": "blue",
          "size": 5
         },
         "mode": "markers",
         "name": "Robot Start",
         "type": "scatter3d",
         "x": [
          11.04
         ],
         "y": [
          2.59
         ],
         "z": [
          0
         ]
        },
        {
         "marker": {
          "color": "red",
          "size": 5
         },
         "mode": "markers",
         "name": "Shuttlecock (Given)",
         "type": "scatter3d",
         "x": [
          4
         ],
         "y": [
          1.3
         ],
         "z": [
          1.6
         ]
        },
        {
         "marker": {
          "color": "orange",
          "size": 5
         },
         "mode": "markers",
         "name": "Shuttlecock (Highest Point)",
         "type": "scatter3d",
         "x": [
          4
         ],
         "y": [
          1.3
         ],
         "z": [
          4.069554346790005
         ]
        },
        {
         "marker": {
          "color": "green",
          "size": 5
         },
         "mode": "markers",
         "name": "Robot Final",
         "type": "scatter3d",
         "x": [
          9.347248058
         ],
         "y": [
          2.136592662
         ],
         "z": [
          0
         ]
        }
       ],
       "layout": {
        "scene": {
         "aspectmode": "data",
         "camera": {
          "eye": {
           "x": 1.5,
           "y": 1.5,
           "z": 1.5
          }
         },
         "xaxis": {
          "title": {
           "text": "X"
          }
         },
         "yaxis": {
          "title": {
           "text": "Y"
          }
         },
         "zaxis": {
          "title": {
           "text": "Z"
          }
         }
        },
        "showlegend": true,
        "template": {
         "data": {
          "bar": [
           {
            "error_x": {
             "color": "#2a3f5f"
            },
            "error_y": {
             "color": "#2a3f5f"
            },
            "marker": {
             "line": {
              "color": "#E5ECF6",
              "width": 0.5
             },
             "pattern": {
              "fillmode": "overlay",
              "size": 10,
              "solidity": 0.2
             }
            },
            "type": "bar"
           }
          ],
          "barpolar": [
           {
            "marker": {
             "line": {
              "color": "#E5ECF6",
              "width": 0.5
             },
             "pattern": {
              "fillmode": "overlay",
              "size": 10,
              "solidity": 0.2
             }
            },
            "type": "barpolar"
           }
          ],
          "carpet": [
           {
            "aaxis": {
             "endlinecolor": "#2a3f5f",
             "gridcolor": "white",
             "linecolor": "white",
             "minorgridcolor": "white",
             "startlinecolor": "#2a3f5f"
            },
            "baxis": {
             "endlinecolor": "#2a3f5f",
             "gridcolor": "white",
             "linecolor": "white",
             "minorgridcolor": "white",
             "startlinecolor": "#2a3f5f"
            },
            "type": "carpet"
           }
          ],
          "choropleth": [
           {
            "colorbar": {
             "outlinewidth": 0,
             "ticks": ""
            },
            "type": "choropleth"
           }
          ],
          "contour": [
           {
            "colorbar": {
             "outlinewidth": 0,
             "ticks": ""
            },
            "colorscale": [
             [
              0,
              "#0d0887"
             ],
             [
              0.1111111111111111,
              "#46039f"
             ],
             [
              0.2222222222222222,
              "#7201a8"
             ],
             [
              0.3333333333333333,
              "#9c179e"
             ],
             [
              0.4444444444444444,
              "#bd3786"
             ],
             [
              0.5555555555555556,
              "#d8576b"
             ],
             [
              0.6666666666666666,
              "#ed7953"
             ],
             [
              0.7777777777777778,
              "#fb9f3a"
             ],
             [
              0.8888888888888888,
              "#fdca26"
             ],
             [
              1,
              "#f0f921"
             ]
            ],
            "type": "contour"
           }
          ],
          "contourcarpet": [
           {
            "colorbar": {
             "outlinewidth": 0,
             "ticks": ""
            },
            "type": "contourcarpet"
           }
          ],
          "heatmap": [
           {
            "colorbar": {
             "outlinewidth": 0,
             "ticks": ""
            },
            "colorscale": [
             [
              0,
              "#0d0887"
             ],
             [
              0.1111111111111111,
              "#46039f"
             ],
             [
              0.2222222222222222,
              "#7201a8"
             ],
             [
              0.3333333333333333,
              "#9c179e"
             ],
             [
              0.4444444444444444,
              "#bd3786"
             ],
             [
              0.5555555555555556,
              "#d8576b"
             ],
             [
              0.6666666666666666,
              "#ed7953"
             ],
             [
              0.7777777777777778,
              "#fb9f3a"
             ],
             [
              0.8888888888888888,
              "#fdca26"
             ],
             [
              1,
              "#f0f921"
             ]
            ],
            "type": "heatmap"
           }
          ],
          "heatmapgl": [
           {
            "colorbar": {
             "outlinewidth": 0,
             "ticks": ""
            },
            "colorscale": [
             [
              0,
              "#0d0887"
             ],
             [
              0.1111111111111111,
              "#46039f"
             ],
             [
              0.2222222222222222,
              "#7201a8"
             ],
             [
              0.3333333333333333,
              "#9c179e"
             ],
             [
              0.4444444444444444,
              "#bd3786"
             ],
             [
              0.5555555555555556,
              "#d8576b"
             ],
             [
              0.6666666666666666,
              "#ed7953"
             ],
             [
              0.7777777777777778,
              "#fb9f3a"
             ],
             [
              0.8888888888888888,
              "#fdca26"
             ],
             [
              1,
              "#f0f921"
             ]
            ],
            "type": "heatmapgl"
           }
          ],
          "histogram": [
           {
            "marker": {
             "pattern": {
              "fillmode": "overlay",
              "size": 10,
              "solidity": 0.2
             }
            },
            "type": "histogram"
           }
          ],
          "histogram2d": [
           {
            "colorbar": {
             "outlinewidth": 0,
             "ticks": ""
            },
            "colorscale": [
             [
              0,
              "#0d0887"
             ],
             [
              0.1111111111111111,
              "#46039f"
             ],
             [
              0.2222222222222222,
              "#7201a8"
             ],
             [
              0.3333333333333333,
              "#9c179e"
             ],
             [
              0.4444444444444444,
              "#bd3786"
             ],
             [
              0.5555555555555556,
              "#d8576b"
             ],
             [
              0.6666666666666666,
              "#ed7953"
             ],
             [
              0.7777777777777778,
              "#fb9f3a"
             ],
             [
              0.8888888888888888,
              "#fdca26"
             ],
             [
              1,
              "#f0f921"
             ]
            ],
            "type": "histogram2d"
           }
          ],
          "histogram2dcontour": [
           {
            "colorbar": {
             "outlinewidth": 0,
             "ticks": ""
            },
            "colorscale": [
             [
              0,
              "#0d0887"
             ],
             [
              0.1111111111111111,
              "#46039f"
             ],
             [
              0.2222222222222222,
              "#7201a8"
             ],
             [
              0.3333333333333333,
              "#9c179e"
             ],
             [
              0.4444444444444444,
              "#bd3786"
             ],
             [
              0.5555555555555556,
              "#d8576b"
             ],
             [
              0.6666666666666666,
              "#ed7953"
             ],
             [
              0.7777777777777778,
              "#fb9f3a"
             ],
             [
              0.8888888888888888,
              "#fdca26"
             ],
             [
              1,
              "#f0f921"
             ]
            ],
            "type": "histogram2dcontour"
           }
          ],
          "mesh3d": [
           {
            "colorbar": {
             "outlinewidth": 0,
             "ticks": ""
            },
            "type": "mesh3d"
           }
          ],
          "parcoords": [
           {
            "line": {
             "colorbar": {
              "outlinewidth": 0,
              "ticks": ""
             }
            },
            "type": "parcoords"
           }
          ],
          "pie": [
           {
            "automargin": true,
            "type": "pie"
           }
          ],
          "scatter": [
           {
            "fillpattern": {
             "fillmode": "overlay",
             "size": 10,
             "solidity": 0.2
            },
            "type": "scatter"
           }
          ],
          "scatter3d": [
           {
            "line": {
             "colorbar": {
              "outlinewidth": 0,
              "ticks": ""
             }
            },
            "marker": {
             "colorbar": {
              "outlinewidth": 0,
              "ticks": ""
             }
            },
            "type": "scatter3d"
           }
          ],
          "scattercarpet": [
           {
            "marker": {
             "colorbar": {
              "outlinewidth": 0,
              "ticks": ""
             }
            },
            "type": "scattercarpet"
           }
          ],
          "scattergeo": [
           {
            "marker": {
             "colorbar": {
              "outlinewidth": 0,
              "ticks": ""
             }
            },
            "type": "scattergeo"
           }
          ],
          "scattergl": [
           {
            "marker": {
             "colorbar": {
              "outlinewidth": 0,
              "ticks": ""
             }
            },
            "type": "scattergl"
           }
          ],
          "scattermapbox": [
           {
            "marker": {
             "colorbar": {
              "outlinewidth": 0,
              "ticks": ""
             }
            },
            "type": "scattermapbox"
           }
          ],
          "scatterpolar": [
           {
            "marker": {
             "colorbar": {
              "outlinewidth": 0,
              "ticks": ""
             }
            },
            "type": "scatterpolar"
           }
          ],
          "scatterpolargl": [
           {
            "marker": {
             "colorbar": {
              "outlinewidth": 0,
              "ticks": ""
             }
            },
            "type": "scatterpolargl"
           }
          ],
          "scatterternary": [
           {
            "marker": {
             "colorbar": {
              "outlinewidth": 0,
              "ticks": ""
             }
            },
            "type": "scatterternary"
           }
          ],
          "surface": [
           {
            "colorbar": {
             "outlinewidth": 0,
             "ticks": ""
            },
            "colorscale": [
             [
              0,
              "#0d0887"
             ],
             [
              0.1111111111111111,
              "#46039f"
             ],
             [
              0.2222222222222222,
              "#7201a8"
             ],
             [
              0.3333333333333333,
              "#9c179e"
             ],
             [
              0.4444444444444444,
              "#bd3786"
             ],
             [
              0.5555555555555556,
              "#d8576b"
             ],
             [
              0.6666666666666666,
              "#ed7953"
             ],
             [
              0.7777777777777778,
              "#fb9f3a"
             ],
             [
              0.8888888888888888,
              "#fdca26"
             ],
             [
              1,
              "#f0f921"
             ]
            ],
            "type": "surface"
           }
          ],
          "table": [
           {
            "cells": {
             "fill": {
              "color": "#EBF0F8"
             },
             "line": {
              "color": "white"
             }
            },
            "header": {
             "fill": {
              "color": "#C8D4E3"
             },
             "line": {
              "color": "white"
             }
            },
            "type": "table"
           }
          ]
         },
         "layout": {
          "annotationdefaults": {
           "arrowcolor": "#2a3f5f",
           "arrowhead": 0,
           "arrowwidth": 1
          },
          "autotypenumbers": "strict",
          "coloraxis": {
           "colorbar": {
            "outlinewidth": 0,
            "ticks": ""
           }
          },
          "colorscale": {
           "diverging": [
            [
             0,
             "#8e0152"
            ],
            [
             0.1,
             "#c51b7d"
            ],
            [
             0.2,
             "#de77ae"
            ],
            [
             0.3,
             "#f1b6da"
            ],
            [
             0.4,
             "#fde0ef"
            ],
            [
             0.5,
             "#f7f7f7"
            ],
            [
             0.6,
             "#e6f5d0"
            ],
            [
             0.7,
             "#b8e186"
            ],
            [
             0.8,
             "#7fbc41"
            ],
            [
             0.9,
             "#4d9221"
            ],
            [
             1,
             "#276419"
            ]
           ],
           "sequential": [
            [
             0,
             "#0d0887"
            ],
            [
             0.1111111111111111,
             "#46039f"
            ],
            [
             0.2222222222222222,
             "#7201a8"
            ],
            [
             0.3333333333333333,
             "#9c179e"
            ],
            [
             0.4444444444444444,
             "#bd3786"
            ],
            [
             0.5555555555555556,
             "#d8576b"
            ],
            [
             0.6666666666666666,
             "#ed7953"
            ],
            [
             0.7777777777777778,
             "#fb9f3a"
            ],
            [
             0.8888888888888888,
             "#fdca26"
            ],
            [
             1,
             "#f0f921"
            ]
           ],
           "sequentialminus": [
            [
             0,
             "#0d0887"
            ],
            [
             0.1111111111111111,
             "#46039f"
            ],
            [
             0.2222222222222222,
             "#7201a8"
            ],
            [
             0.3333333333333333,
             "#9c179e"
            ],
            [
             0.4444444444444444,
             "#bd3786"
            ],
            [
             0.5555555555555556,
             "#d8576b"
            ],
            [
             0.6666666666666666,
             "#ed7953"
            ],
            [
             0.7777777777777778,
             "#fb9f3a"
            ],
            [
             0.8888888888888888,
             "#fdca26"
            ],
            [
             1,
             "#f0f921"
            ]
           ]
          },
          "colorway": [
           "#636efa",
           "#EF553B",
           "#00cc96",
           "#ab63fa",
           "#FFA15A",
           "#19d3f3",
           "#FF6692",
           "#B6E880",
           "#FF97FF",
           "#FECB52"
          ],
          "font": {
           "color": "#2a3f5f"
          },
          "geo": {
           "bgcolor": "white",
           "lakecolor": "white",
           "landcolor": "#E5ECF6",
           "showlakes": true,
           "showland": true,
           "subunitcolor": "white"
          },
          "hoverlabel": {
           "align": "left"
          },
          "hovermode": "closest",
          "mapbox": {
           "style": "light"
          },
          "paper_bgcolor": "white",
          "plot_bgcolor": "#E5ECF6",
          "polar": {
           "angularaxis": {
            "gridcolor": "white",
            "linecolor": "white",
            "ticks": ""
           },
           "bgcolor": "#E5ECF6",
           "radialaxis": {
            "gridcolor": "white",
            "linecolor": "white",
            "ticks": ""
           }
          },
          "scene": {
           "xaxis": {
            "backgroundcolor": "#E5ECF6",
            "gridcolor": "white",
            "gridwidth": 2,
            "linecolor": "white",
            "showbackground": true,
            "ticks": "",
            "zerolinecolor": "white"
           },
           "yaxis": {
            "backgroundcolor": "#E5ECF6",
            "gridcolor": "white",
            "gridwidth": 2,
            "linecolor": "white",
            "showbackground": true,
            "ticks": "",
            "zerolinecolor": "white"
           },
           "zaxis": {
            "backgroundcolor": "#E5ECF6",
            "gridcolor": "white",
            "gridwidth": 2,
            "linecolor": "white",
            "showbackground": true,
            "ticks": "",
            "zerolinecolor": "white"
           }
          },
          "shapedefaults": {
           "line": {
            "color": "#2a3f5f"
           }
          },
          "ternary": {
           "aaxis": {
            "gridcolor": "white",
            "linecolor": "white",
            "ticks": ""
           },
           "baxis": {
            "gridcolor": "white",
            "linecolor": "white",
            "ticks": ""
           },
           "bgcolor": "#E5ECF6",
           "caxis": {
            "gridcolor": "white",
            "linecolor": "white",
            "ticks": ""
           }
          },
          "title": {
           "x": 0.05
          },
          "xaxis": {
           "automargin": true,
           "gridcolor": "white",
           "linecolor": "white",
           "ticks": "",
           "title": {
            "standoff": 15
           },
           "zerolinecolor": "white",
           "zerolinewidth": 2
          },
          "yaxis": {
           "automargin": true,
           "gridcolor": "white",
           "linecolor": "white",
           "ticks": "",
           "title": {
            "standoff": 15
           },
           "zerolinecolor": "white",
           "zerolinewidth": 2
          }
         }
        },
        "title": {
         "text": "Robot and Shuttlecock Positions"
        }
       }
      }
     },
     "metadata": {},
     "output_type": "display_data"
    },
    {
     "name": "stderr",
     "output_type": "stream",
     "text": [
      "c:\\Users\\Kenny\\AppData\\Local\\Programs\\Python\\Python310\\lib\\site-packages\\sklearn\\base.py:439: UserWarning:\n",
      "\n",
      "X does not have valid feature names, but RandomForestRegressor was fitted with feature names\n",
      "\n"
     ]
    },
    {
     "name": "stdout",
     "output_type": "stream",
     "text": [
      "Highest Point (x, y, z): 3.8 3.8 5.4367521338200016\n",
      "Dist 2.393706658867775\n",
      "Robot travel time:  1.1968533294338874\n",
      "Moving the robot from (11.04, 2.59) to (8.90119214, 1.515136052)\n",
      "Robot reached the predicted shuttlecock position.\n",
      "Time taken from the predicted highest point to before the shuttlecock hits the ground: 600 ms\n",
      "Hitting back the shuttlecock at point: 0.739056051\n",
      "Robot's final position: (8.90119214, 1.515136052)\n",
      "--------------------\n"
     ]
    },
    {
     "data": {
      "application/vnd.plotly.v1+json": {
       "config": {
        "plotlyServerURL": "https://plot.ly"
       },
       "data": [
        {
         "marker": {
          "color": "blue",
          "size": 5
         },
         "mode": "markers",
         "name": "Robot Start",
         "type": "scatter3d",
         "x": [
          11.04
         ],
         "y": [
          2.59
         ],
         "z": [
          0
         ]
        },
        {
         "marker": {
          "color": "red",
          "size": 5
         },
         "mode": "markers",
         "name": "Shuttlecock (Given)",
         "type": "scatter3d",
         "x": [
          3.8
         ],
         "y": [
          3.8
         ],
         "z": [
          1.9
         ]
        },
        {
         "marker": {
          "color": "orange",
          "size": 5
         },
         "mode": "markers",
         "name": "Shuttlecock (Highest Point)",
         "type": "scatter3d",
         "x": [
          3.8
         ],
         "y": [
          3.8
         ],
         "z": [
          5.4367521338200016
         ]
        },
        {
         "marker": {
          "color": "green",
          "size": 5
         },
         "mode": "markers",
         "name": "Robot Final",
         "type": "scatter3d",
         "x": [
          8.90119214
         ],
         "y": [
          1.515136052
         ],
         "z": [
          0
         ]
        }
       ],
       "layout": {
        "scene": {
         "aspectmode": "data",
         "camera": {
          "eye": {
           "x": 1.5,
           "y": 1.5,
           "z": 1.5
          }
         },
         "xaxis": {
          "title": {
           "text": "X"
          }
         },
         "yaxis": {
          "title": {
           "text": "Y"
          }
         },
         "zaxis": {
          "title": {
           "text": "Z"
          }
         }
        },
        "showlegend": true,
        "template": {
         "data": {
          "bar": [
           {
            "error_x": {
             "color": "#2a3f5f"
            },
            "error_y": {
             "color": "#2a3f5f"
            },
            "marker": {
             "line": {
              "color": "#E5ECF6",
              "width": 0.5
             },
             "pattern": {
              "fillmode": "overlay",
              "size": 10,
              "solidity": 0.2
             }
            },
            "type": "bar"
           }
          ],
          "barpolar": [
           {
            "marker": {
             "line": {
              "color": "#E5ECF6",
              "width": 0.5
             },
             "pattern": {
              "fillmode": "overlay",
              "size": 10,
              "solidity": 0.2
             }
            },
            "type": "barpolar"
           }
          ],
          "carpet": [
           {
            "aaxis": {
             "endlinecolor": "#2a3f5f",
             "gridcolor": "white",
             "linecolor": "white",
             "minorgridcolor": "white",
             "startlinecolor": "#2a3f5f"
            },
            "baxis": {
             "endlinecolor": "#2a3f5f",
             "gridcolor": "white",
             "linecolor": "white",
             "minorgridcolor": "white",
             "startlinecolor": "#2a3f5f"
            },
            "type": "carpet"
           }
          ],
          "choropleth": [
           {
            "colorbar": {
             "outlinewidth": 0,
             "ticks": ""
            },
            "type": "choropleth"
           }
          ],
          "contour": [
           {
            "colorbar": {
             "outlinewidth": 0,
             "ticks": ""
            },
            "colorscale": [
             [
              0,
              "#0d0887"
             ],
             [
              0.1111111111111111,
              "#46039f"
             ],
             [
              0.2222222222222222,
              "#7201a8"
             ],
             [
              0.3333333333333333,
              "#9c179e"
             ],
             [
              0.4444444444444444,
              "#bd3786"
             ],
             [
              0.5555555555555556,
              "#d8576b"
             ],
             [
              0.6666666666666666,
              "#ed7953"
             ],
             [
              0.7777777777777778,
              "#fb9f3a"
             ],
             [
              0.8888888888888888,
              "#fdca26"
             ],
             [
              1,
              "#f0f921"
             ]
            ],
            "type": "contour"
           }
          ],
          "contourcarpet": [
           {
            "colorbar": {
             "outlinewidth": 0,
             "ticks": ""
            },
            "type": "contourcarpet"
           }
          ],
          "heatmap": [
           {
            "colorbar": {
             "outlinewidth": 0,
             "ticks": ""
            },
            "colorscale": [
             [
              0,
              "#0d0887"
             ],
             [
              0.1111111111111111,
              "#46039f"
             ],
             [
              0.2222222222222222,
              "#7201a8"
             ],
             [
              0.3333333333333333,
              "#9c179e"
             ],
             [
              0.4444444444444444,
              "#bd3786"
             ],
             [
              0.5555555555555556,
              "#d8576b"
             ],
             [
              0.6666666666666666,
              "#ed7953"
             ],
             [
              0.7777777777777778,
              "#fb9f3a"
             ],
             [
              0.8888888888888888,
              "#fdca26"
             ],
             [
              1,
              "#f0f921"
             ]
            ],
            "type": "heatmap"
           }
          ],
          "heatmapgl": [
           {
            "colorbar": {
             "outlinewidth": 0,
             "ticks": ""
            },
            "colorscale": [
             [
              0,
              "#0d0887"
             ],
             [
              0.1111111111111111,
              "#46039f"
             ],
             [
              0.2222222222222222,
              "#7201a8"
             ],
             [
              0.3333333333333333,
              "#9c179e"
             ],
             [
              0.4444444444444444,
              "#bd3786"
             ],
             [
              0.5555555555555556,
              "#d8576b"
             ],
             [
              0.6666666666666666,
              "#ed7953"
             ],
             [
              0.7777777777777778,
              "#fb9f3a"
             ],
             [
              0.8888888888888888,
              "#fdca26"
             ],
             [
              1,
              "#f0f921"
             ]
            ],
            "type": "heatmapgl"
           }
          ],
          "histogram": [
           {
            "marker": {
             "pattern": {
              "fillmode": "overlay",
              "size": 10,
              "solidity": 0.2
             }
            },
            "type": "histogram"
           }
          ],
          "histogram2d": [
           {
            "colorbar": {
             "outlinewidth": 0,
             "ticks": ""
            },
            "colorscale": [
             [
              0,
              "#0d0887"
             ],
             [
              0.1111111111111111,
              "#46039f"
             ],
             [
              0.2222222222222222,
              "#7201a8"
             ],
             [
              0.3333333333333333,
              "#9c179e"
             ],
             [
              0.4444444444444444,
              "#bd3786"
             ],
             [
              0.5555555555555556,
              "#d8576b"
             ],
             [
              0.6666666666666666,
              "#ed7953"
             ],
             [
              0.7777777777777778,
              "#fb9f3a"
             ],
             [
              0.8888888888888888,
              "#fdca26"
             ],
             [
              1,
              "#f0f921"
             ]
            ],
            "type": "histogram2d"
           }
          ],
          "histogram2dcontour": [
           {
            "colorbar": {
             "outlinewidth": 0,
             "ticks": ""
            },
            "colorscale": [
             [
              0,
              "#0d0887"
             ],
             [
              0.1111111111111111,
              "#46039f"
             ],
             [
              0.2222222222222222,
              "#7201a8"
             ],
             [
              0.3333333333333333,
              "#9c179e"
             ],
             [
              0.4444444444444444,
              "#bd3786"
             ],
             [
              0.5555555555555556,
              "#d8576b"
             ],
             [
              0.6666666666666666,
              "#ed7953"
             ],
             [
              0.7777777777777778,
              "#fb9f3a"
             ],
             [
              0.8888888888888888,
              "#fdca26"
             ],
             [
              1,
              "#f0f921"
             ]
            ],
            "type": "histogram2dcontour"
           }
          ],
          "mesh3d": [
           {
            "colorbar": {
             "outlinewidth": 0,
             "ticks": ""
            },
            "type": "mesh3d"
           }
          ],
          "parcoords": [
           {
            "line": {
             "colorbar": {
              "outlinewidth": 0,
              "ticks": ""
             }
            },
            "type": "parcoords"
           }
          ],
          "pie": [
           {
            "automargin": true,
            "type": "pie"
           }
          ],
          "scatter": [
           {
            "fillpattern": {
             "fillmode": "overlay",
             "size": 10,
             "solidity": 0.2
            },
            "type": "scatter"
           }
          ],
          "scatter3d": [
           {
            "line": {
             "colorbar": {
              "outlinewidth": 0,
              "ticks": ""
             }
            },
            "marker": {
             "colorbar": {
              "outlinewidth": 0,
              "ticks": ""
             }
            },
            "type": "scatter3d"
           }
          ],
          "scattercarpet": [
           {
            "marker": {
             "colorbar": {
              "outlinewidth": 0,
              "ticks": ""
             }
            },
            "type": "scattercarpet"
           }
          ],
          "scattergeo": [
           {
            "marker": {
             "colorbar": {
              "outlinewidth": 0,
              "ticks": ""
             }
            },
            "type": "scattergeo"
           }
          ],
          "scattergl": [
           {
            "marker": {
             "colorbar": {
              "outlinewidth": 0,
              "ticks": ""
             }
            },
            "type": "scattergl"
           }
          ],
          "scattermapbox": [
           {
            "marker": {
             "colorbar": {
              "outlinewidth": 0,
              "ticks": ""
             }
            },
            "type": "scattermapbox"
           }
          ],
          "scatterpolar": [
           {
            "marker": {
             "colorbar": {
              "outlinewidth": 0,
              "ticks": ""
             }
            },
            "type": "scatterpolar"
           }
          ],
          "scatterpolargl": [
           {
            "marker": {
             "colorbar": {
              "outlinewidth": 0,
              "ticks": ""
             }
            },
            "type": "scatterpolargl"
           }
          ],
          "scatterternary": [
           {
            "marker": {
             "colorbar": {
              "outlinewidth": 0,
              "ticks": ""
             }
            },
            "type": "scatterternary"
           }
          ],
          "surface": [
           {
            "colorbar": {
             "outlinewidth": 0,
             "ticks": ""
            },
            "colorscale": [
             [
              0,
              "#0d0887"
             ],
             [
              0.1111111111111111,
              "#46039f"
             ],
             [
              0.2222222222222222,
              "#7201a8"
             ],
             [
              0.3333333333333333,
              "#9c179e"
             ],
             [
              0.4444444444444444,
              "#bd3786"
             ],
             [
              0.5555555555555556,
              "#d8576b"
             ],
             [
              0.6666666666666666,
              "#ed7953"
             ],
             [
              0.7777777777777778,
              "#fb9f3a"
             ],
             [
              0.8888888888888888,
              "#fdca26"
             ],
             [
              1,
              "#f0f921"
             ]
            ],
            "type": "surface"
           }
          ],
          "table": [
           {
            "cells": {
             "fill": {
              "color": "#EBF0F8"
             },
             "line": {
              "color": "white"
             }
            },
            "header": {
             "fill": {
              "color": "#C8D4E3"
             },
             "line": {
              "color": "white"
             }
            },
            "type": "table"
           }
          ]
         },
         "layout": {
          "annotationdefaults": {
           "arrowcolor": "#2a3f5f",
           "arrowhead": 0,
           "arrowwidth": 1
          },
          "autotypenumbers": "strict",
          "coloraxis": {
           "colorbar": {
            "outlinewidth": 0,
            "ticks": ""
           }
          },
          "colorscale": {
           "diverging": [
            [
             0,
             "#8e0152"
            ],
            [
             0.1,
             "#c51b7d"
            ],
            [
             0.2,
             "#de77ae"
            ],
            [
             0.3,
             "#f1b6da"
            ],
            [
             0.4,
             "#fde0ef"
            ],
            [
             0.5,
             "#f7f7f7"
            ],
            [
             0.6,
             "#e6f5d0"
            ],
            [
             0.7,
             "#b8e186"
            ],
            [
             0.8,
             "#7fbc41"
            ],
            [
             0.9,
             "#4d9221"
            ],
            [
             1,
             "#276419"
            ]
           ],
           "sequential": [
            [
             0,
             "#0d0887"
            ],
            [
             0.1111111111111111,
             "#46039f"
            ],
            [
             0.2222222222222222,
             "#7201a8"
            ],
            [
             0.3333333333333333,
             "#9c179e"
            ],
            [
             0.4444444444444444,
             "#bd3786"
            ],
            [
             0.5555555555555556,
             "#d8576b"
            ],
            [
             0.6666666666666666,
             "#ed7953"
            ],
            [
             0.7777777777777778,
             "#fb9f3a"
            ],
            [
             0.8888888888888888,
             "#fdca26"
            ],
            [
             1,
             "#f0f921"
            ]
           ],
           "sequentialminus": [
            [
             0,
             "#0d0887"
            ],
            [
             0.1111111111111111,
             "#46039f"
            ],
            [
             0.2222222222222222,
             "#7201a8"
            ],
            [
             0.3333333333333333,
             "#9c179e"
            ],
            [
             0.4444444444444444,
             "#bd3786"
            ],
            [
             0.5555555555555556,
             "#d8576b"
            ],
            [
             0.6666666666666666,
             "#ed7953"
            ],
            [
             0.7777777777777778,
             "#fb9f3a"
            ],
            [
             0.8888888888888888,
             "#fdca26"
            ],
            [
             1,
             "#f0f921"
            ]
           ]
          },
          "colorway": [
           "#636efa",
           "#EF553B",
           "#00cc96",
           "#ab63fa",
           "#FFA15A",
           "#19d3f3",
           "#FF6692",
           "#B6E880",
           "#FF97FF",
           "#FECB52"
          ],
          "font": {
           "color": "#2a3f5f"
          },
          "geo": {
           "bgcolor": "white",
           "lakecolor": "white",
           "landcolor": "#E5ECF6",
           "showlakes": true,
           "showland": true,
           "subunitcolor": "white"
          },
          "hoverlabel": {
           "align": "left"
          },
          "hovermode": "closest",
          "mapbox": {
           "style": "light"
          },
          "paper_bgcolor": "white",
          "plot_bgcolor": "#E5ECF6",
          "polar": {
           "angularaxis": {
            "gridcolor": "white",
            "linecolor": "white",
            "ticks": ""
           },
           "bgcolor": "#E5ECF6",
           "radialaxis": {
            "gridcolor": "white",
            "linecolor": "white",
            "ticks": ""
           }
          },
          "scene": {
           "xaxis": {
            "backgroundcolor": "#E5ECF6",
            "gridcolor": "white",
            "gridwidth": 2,
            "linecolor": "white",
            "showbackground": true,
            "ticks": "",
            "zerolinecolor": "white"
           },
           "yaxis": {
            "backgroundcolor": "#E5ECF6",
            "gridcolor": "white",
            "gridwidth": 2,
            "linecolor": "white",
            "showbackground": true,
            "ticks": "",
            "zerolinecolor": "white"
           },
           "zaxis": {
            "backgroundcolor": "#E5ECF6",
            "gridcolor": "white",
            "gridwidth": 2,
            "linecolor": "white",
            "showbackground": true,
            "ticks": "",
            "zerolinecolor": "white"
           }
          },
          "shapedefaults": {
           "line": {
            "color": "#2a3f5f"
           }
          },
          "ternary": {
           "aaxis": {
            "gridcolor": "white",
            "linecolor": "white",
            "ticks": ""
           },
           "baxis": {
            "gridcolor": "white",
            "linecolor": "white",
            "ticks": ""
           },
           "bgcolor": "#E5ECF6",
           "caxis": {
            "gridcolor": "white",
            "linecolor": "white",
            "ticks": ""
           }
          },
          "title": {
           "x": 0.05
          },
          "xaxis": {
           "automargin": true,
           "gridcolor": "white",
           "linecolor": "white",
           "ticks": "",
           "title": {
            "standoff": 15
           },
           "zerolinecolor": "white",
           "zerolinewidth": 2
          },
          "yaxis": {
           "automargin": true,
           "gridcolor": "white",
           "linecolor": "white",
           "ticks": "",
           "title": {
            "standoff": 15
           },
           "zerolinecolor": "white",
           "zerolinewidth": 2
          }
         }
        },
        "title": {
         "text": "Robot and Shuttlecock Positions"
        }
       }
      }
     },
     "metadata": {},
     "output_type": "display_data"
    },
    {
     "name": "stderr",
     "output_type": "stream",
     "text": [
      "c:\\Users\\Kenny\\AppData\\Local\\Programs\\Python\\Python310\\lib\\site-packages\\sklearn\\base.py:439: UserWarning:\n",
      "\n",
      "X does not have valid feature names, but RandomForestRegressor was fitted with feature names\n",
      "\n"
     ]
    },
    {
     "name": "stdout",
     "output_type": "stream",
     "text": [
      "Highest Point (x, y, z): 4 1.3 6.427777891859996\n",
      "Dist 2.4386220256531708\n",
      "Robot travel time:  1.2193110128265854\n",
      "Moving the robot from (11.04, 2.59) to (8.968022537, 3.875996414)\n",
      "Robot reached the predicted shuttlecock position.\n",
      "Time taken from the predicted highest point to before the shuttlecock hits the ground: 650 ms\n",
      "Hitting back the shuttlecock at point: 0.870508965\n",
      "Robot's final position: (8.968022537, 3.875996414)\n",
      "--------------------\n"
     ]
    },
    {
     "data": {
      "application/vnd.plotly.v1+json": {
       "config": {
        "plotlyServerURL": "https://plot.ly"
       },
       "data": [
        {
         "marker": {
          "color": "blue",
          "size": 5
         },
         "mode": "markers",
         "name": "Robot Start",
         "type": "scatter3d",
         "x": [
          11.04
         ],
         "y": [
          2.59
         ],
         "z": [
          0
         ]
        },
        {
         "marker": {
          "color": "red",
          "size": 5
         },
         "mode": "markers",
         "name": "Shuttlecock (Given)",
         "type": "scatter3d",
         "x": [
          4
         ],
         "y": [
          1.3
         ],
         "z": [
          3
         ]
        },
        {
         "marker": {
          "color": "orange",
          "size": 5
         },
         "mode": "markers",
         "name": "Shuttlecock (Highest Point)",
         "type": "scatter3d",
         "x": [
          4
         ],
         "y": [
          1.3
         ],
         "z": [
          6.427777891859996
         ]
        },
        {
         "marker": {
          "color": "green",
          "size": 5
         },
         "mode": "markers",
         "name": "Robot Final",
         "type": "scatter3d",
         "x": [
          8.968022537
         ],
         "y": [
          3.875996414
         ],
         "z": [
          0
         ]
        }
       ],
       "layout": {
        "scene": {
         "aspectmode": "data",
         "camera": {
          "eye": {
           "x": 1.5,
           "y": 1.5,
           "z": 1.5
          }
         },
         "xaxis": {
          "title": {
           "text": "X"
          }
         },
         "yaxis": {
          "title": {
           "text": "Y"
          }
         },
         "zaxis": {
          "title": {
           "text": "Z"
          }
         }
        },
        "showlegend": true,
        "template": {
         "data": {
          "bar": [
           {
            "error_x": {
             "color": "#2a3f5f"
            },
            "error_y": {
             "color": "#2a3f5f"
            },
            "marker": {
             "line": {
              "color": "#E5ECF6",
              "width": 0.5
             },
             "pattern": {
              "fillmode": "overlay",
              "size": 10,
              "solidity": 0.2
             }
            },
            "type": "bar"
           }
          ],
          "barpolar": [
           {
            "marker": {
             "line": {
              "color": "#E5ECF6",
              "width": 0.5
             },
             "pattern": {
              "fillmode": "overlay",
              "size": 10,
              "solidity": 0.2
             }
            },
            "type": "barpolar"
           }
          ],
          "carpet": [
           {
            "aaxis": {
             "endlinecolor": "#2a3f5f",
             "gridcolor": "white",
             "linecolor": "white",
             "minorgridcolor": "white",
             "startlinecolor": "#2a3f5f"
            },
            "baxis": {
             "endlinecolor": "#2a3f5f",
             "gridcolor": "white",
             "linecolor": "white",
             "minorgridcolor": "white",
             "startlinecolor": "#2a3f5f"
            },
            "type": "carpet"
           }
          ],
          "choropleth": [
           {
            "colorbar": {
             "outlinewidth": 0,
             "ticks": ""
            },
            "type": "choropleth"
           }
          ],
          "contour": [
           {
            "colorbar": {
             "outlinewidth": 0,
             "ticks": ""
            },
            "colorscale": [
             [
              0,
              "#0d0887"
             ],
             [
              0.1111111111111111,
              "#46039f"
             ],
             [
              0.2222222222222222,
              "#7201a8"
             ],
             [
              0.3333333333333333,
              "#9c179e"
             ],
             [
              0.4444444444444444,
              "#bd3786"
             ],
             [
              0.5555555555555556,
              "#d8576b"
             ],
             [
              0.6666666666666666,
              "#ed7953"
             ],
             [
              0.7777777777777778,
              "#fb9f3a"
             ],
             [
              0.8888888888888888,
              "#fdca26"
             ],
             [
              1,
              "#f0f921"
             ]
            ],
            "type": "contour"
           }
          ],
          "contourcarpet": [
           {
            "colorbar": {
             "outlinewidth": 0,
             "ticks": ""
            },
            "type": "contourcarpet"
           }
          ],
          "heatmap": [
           {
            "colorbar": {
             "outlinewidth": 0,
             "ticks": ""
            },
            "colorscale": [
             [
              0,
              "#0d0887"
             ],
             [
              0.1111111111111111,
              "#46039f"
             ],
             [
              0.2222222222222222,
              "#7201a8"
             ],
             [
              0.3333333333333333,
              "#9c179e"
             ],
             [
              0.4444444444444444,
              "#bd3786"
             ],
             [
              0.5555555555555556,
              "#d8576b"
             ],
             [
              0.6666666666666666,
              "#ed7953"
             ],
             [
              0.7777777777777778,
              "#fb9f3a"
             ],
             [
              0.8888888888888888,
              "#fdca26"
             ],
             [
              1,
              "#f0f921"
             ]
            ],
            "type": "heatmap"
           }
          ],
          "heatmapgl": [
           {
            "colorbar": {
             "outlinewidth": 0,
             "ticks": ""
            },
            "colorscale": [
             [
              0,
              "#0d0887"
             ],
             [
              0.1111111111111111,
              "#46039f"
             ],
             [
              0.2222222222222222,
              "#7201a8"
             ],
             [
              0.3333333333333333,
              "#9c179e"
             ],
             [
              0.4444444444444444,
              "#bd3786"
             ],
             [
              0.5555555555555556,
              "#d8576b"
             ],
             [
              0.6666666666666666,
              "#ed7953"
             ],
             [
              0.7777777777777778,
              "#fb9f3a"
             ],
             [
              0.8888888888888888,
              "#fdca26"
             ],
             [
              1,
              "#f0f921"
             ]
            ],
            "type": "heatmapgl"
           }
          ],
          "histogram": [
           {
            "marker": {
             "pattern": {
              "fillmode": "overlay",
              "size": 10,
              "solidity": 0.2
             }
            },
            "type": "histogram"
           }
          ],
          "histogram2d": [
           {
            "colorbar": {
             "outlinewidth": 0,
             "ticks": ""
            },
            "colorscale": [
             [
              0,
              "#0d0887"
             ],
             [
              0.1111111111111111,
              "#46039f"
             ],
             [
              0.2222222222222222,
              "#7201a8"
             ],
             [
              0.3333333333333333,
              "#9c179e"
             ],
             [
              0.4444444444444444,
              "#bd3786"
             ],
             [
              0.5555555555555556,
              "#d8576b"
             ],
             [
              0.6666666666666666,
              "#ed7953"
             ],
             [
              0.7777777777777778,
              "#fb9f3a"
             ],
             [
              0.8888888888888888,
              "#fdca26"
             ],
             [
              1,
              "#f0f921"
             ]
            ],
            "type": "histogram2d"
           }
          ],
          "histogram2dcontour": [
           {
            "colorbar": {
             "outlinewidth": 0,
             "ticks": ""
            },
            "colorscale": [
             [
              0,
              "#0d0887"
             ],
             [
              0.1111111111111111,
              "#46039f"
             ],
             [
              0.2222222222222222,
              "#7201a8"
             ],
             [
              0.3333333333333333,
              "#9c179e"
             ],
             [
              0.4444444444444444,
              "#bd3786"
             ],
             [
              0.5555555555555556,
              "#d8576b"
             ],
             [
              0.6666666666666666,
              "#ed7953"
             ],
             [
              0.7777777777777778,
              "#fb9f3a"
             ],
             [
              0.8888888888888888,
              "#fdca26"
             ],
             [
              1,
              "#f0f921"
             ]
            ],
            "type": "histogram2dcontour"
           }
          ],
          "mesh3d": [
           {
            "colorbar": {
             "outlinewidth": 0,
             "ticks": ""
            },
            "type": "mesh3d"
           }
          ],
          "parcoords": [
           {
            "line": {
             "colorbar": {
              "outlinewidth": 0,
              "ticks": ""
             }
            },
            "type": "parcoords"
           }
          ],
          "pie": [
           {
            "automargin": true,
            "type": "pie"
           }
          ],
          "scatter": [
           {
            "fillpattern": {
             "fillmode": "overlay",
             "size": 10,
             "solidity": 0.2
            },
            "type": "scatter"
           }
          ],
          "scatter3d": [
           {
            "line": {
             "colorbar": {
              "outlinewidth": 0,
              "ticks": ""
             }
            },
            "marker": {
             "colorbar": {
              "outlinewidth": 0,
              "ticks": ""
             }
            },
            "type": "scatter3d"
           }
          ],
          "scattercarpet": [
           {
            "marker": {
             "colorbar": {
              "outlinewidth": 0,
              "ticks": ""
             }
            },
            "type": "scattercarpet"
           }
          ],
          "scattergeo": [
           {
            "marker": {
             "colorbar": {
              "outlinewidth": 0,
              "ticks": ""
             }
            },
            "type": "scattergeo"
           }
          ],
          "scattergl": [
           {
            "marker": {
             "colorbar": {
              "outlinewidth": 0,
              "ticks": ""
             }
            },
            "type": "scattergl"
           }
          ],
          "scattermapbox": [
           {
            "marker": {
             "colorbar": {
              "outlinewidth": 0,
              "ticks": ""
             }
            },
            "type": "scattermapbox"
           }
          ],
          "scatterpolar": [
           {
            "marker": {
             "colorbar": {
              "outlinewidth": 0,
              "ticks": ""
             }
            },
            "type": "scatterpolar"
           }
          ],
          "scatterpolargl": [
           {
            "marker": {
             "colorbar": {
              "outlinewidth": 0,
              "ticks": ""
             }
            },
            "type": "scatterpolargl"
           }
          ],
          "scatterternary": [
           {
            "marker": {
             "colorbar": {
              "outlinewidth": 0,
              "ticks": ""
             }
            },
            "type": "scatterternary"
           }
          ],
          "surface": [
           {
            "colorbar": {
             "outlinewidth": 0,
             "ticks": ""
            },
            "colorscale": [
             [
              0,
              "#0d0887"
             ],
             [
              0.1111111111111111,
              "#46039f"
             ],
             [
              0.2222222222222222,
              "#7201a8"
             ],
             [
              0.3333333333333333,
              "#9c179e"
             ],
             [
              0.4444444444444444,
              "#bd3786"
             ],
             [
              0.5555555555555556,
              "#d8576b"
             ],
             [
              0.6666666666666666,
              "#ed7953"
             ],
             [
              0.7777777777777778,
              "#fb9f3a"
             ],
             [
              0.8888888888888888,
              "#fdca26"
             ],
             [
              1,
              "#f0f921"
             ]
            ],
            "type": "surface"
           }
          ],
          "table": [
           {
            "cells": {
             "fill": {
              "color": "#EBF0F8"
             },
             "line": {
              "color": "white"
             }
            },
            "header": {
             "fill": {
              "color": "#C8D4E3"
             },
             "line": {
              "color": "white"
             }
            },
            "type": "table"
           }
          ]
         },
         "layout": {
          "annotationdefaults": {
           "arrowcolor": "#2a3f5f",
           "arrowhead": 0,
           "arrowwidth": 1
          },
          "autotypenumbers": "strict",
          "coloraxis": {
           "colorbar": {
            "outlinewidth": 0,
            "ticks": ""
           }
          },
          "colorscale": {
           "diverging": [
            [
             0,
             "#8e0152"
            ],
            [
             0.1,
             "#c51b7d"
            ],
            [
             0.2,
             "#de77ae"
            ],
            [
             0.3,
             "#f1b6da"
            ],
            [
             0.4,
             "#fde0ef"
            ],
            [
             0.5,
             "#f7f7f7"
            ],
            [
             0.6,
             "#e6f5d0"
            ],
            [
             0.7,
             "#b8e186"
            ],
            [
             0.8,
             "#7fbc41"
            ],
            [
             0.9,
             "#4d9221"
            ],
            [
             1,
             "#276419"
            ]
           ],
           "sequential": [
            [
             0,
             "#0d0887"
            ],
            [
             0.1111111111111111,
             "#46039f"
            ],
            [
             0.2222222222222222,
             "#7201a8"
            ],
            [
             0.3333333333333333,
             "#9c179e"
            ],
            [
             0.4444444444444444,
             "#bd3786"
            ],
            [
             0.5555555555555556,
             "#d8576b"
            ],
            [
             0.6666666666666666,
             "#ed7953"
            ],
            [
             0.7777777777777778,
             "#fb9f3a"
            ],
            [
             0.8888888888888888,
             "#fdca26"
            ],
            [
             1,
             "#f0f921"
            ]
           ],
           "sequentialminus": [
            [
             0,
             "#0d0887"
            ],
            [
             0.1111111111111111,
             "#46039f"
            ],
            [
             0.2222222222222222,
             "#7201a8"
            ],
            [
             0.3333333333333333,
             "#9c179e"
            ],
            [
             0.4444444444444444,
             "#bd3786"
            ],
            [
             0.5555555555555556,
             "#d8576b"
            ],
            [
             0.6666666666666666,
             "#ed7953"
            ],
            [
             0.7777777777777778,
             "#fb9f3a"
            ],
            [
             0.8888888888888888,
             "#fdca26"
            ],
            [
             1,
             "#f0f921"
            ]
           ]
          },
          "colorway": [
           "#636efa",
           "#EF553B",
           "#00cc96",
           "#ab63fa",
           "#FFA15A",
           "#19d3f3",
           "#FF6692",
           "#B6E880",
           "#FF97FF",
           "#FECB52"
          ],
          "font": {
           "color": "#2a3f5f"
          },
          "geo": {
           "bgcolor": "white",
           "lakecolor": "white",
           "landcolor": "#E5ECF6",
           "showlakes": true,
           "showland": true,
           "subunitcolor": "white"
          },
          "hoverlabel": {
           "align": "left"
          },
          "hovermode": "closest",
          "mapbox": {
           "style": "light"
          },
          "paper_bgcolor": "white",
          "plot_bgcolor": "#E5ECF6",
          "polar": {
           "angularaxis": {
            "gridcolor": "white",
            "linecolor": "white",
            "ticks": ""
           },
           "bgcolor": "#E5ECF6",
           "radialaxis": {
            "gridcolor": "white",
            "linecolor": "white",
            "ticks": ""
           }
          },
          "scene": {
           "xaxis": {
            "backgroundcolor": "#E5ECF6",
            "gridcolor": "white",
            "gridwidth": 2,
            "linecolor": "white",
            "showbackground": true,
            "ticks": "",
            "zerolinecolor": "white"
           },
           "yaxis": {
            "backgroundcolor": "#E5ECF6",
            "gridcolor": "white",
            "gridwidth": 2,
            "linecolor": "white",
            "showbackground": true,
            "ticks": "",
            "zerolinecolor": "white"
           },
           "zaxis": {
            "backgroundcolor": "#E5ECF6",
            "gridcolor": "white",
            "gridwidth": 2,
            "linecolor": "white",
            "showbackground": true,
            "ticks": "",
            "zerolinecolor": "white"
           }
          },
          "shapedefaults": {
           "line": {
            "color": "#2a3f5f"
           }
          },
          "ternary": {
           "aaxis": {
            "gridcolor": "white",
            "linecolor": "white",
            "ticks": ""
           },
           "baxis": {
            "gridcolor": "white",
            "linecolor": "white",
            "ticks": ""
           },
           "bgcolor": "#E5ECF6",
           "caxis": {
            "gridcolor": "white",
            "linecolor": "white",
            "ticks": ""
           }
          },
          "title": {
           "x": 0.05
          },
          "xaxis": {
           "automargin": true,
           "gridcolor": "white",
           "linecolor": "white",
           "ticks": "",
           "title": {
            "standoff": 15
           },
           "zerolinecolor": "white",
           "zerolinewidth": 2
          },
          "yaxis": {
           "automargin": true,
           "gridcolor": "white",
           "linecolor": "white",
           "ticks": "",
           "title": {
            "standoff": 15
           },
           "zerolinecolor": "white",
           "zerolinewidth": 2
          }
         }
        },
        "title": {
         "text": "Robot and Shuttlecock Positions"
        }
       }
      }
     },
     "metadata": {},
     "output_type": "display_data"
    }
   ],
   "source": [
    "import time\n",
    "import numpy as np\n",
    "import plotly.graph_objects as go\n",
    "import joblib\n",
    "\n",
    "# Load the trained regression model\n",
    "model = joblib.load('regression_model.joblib')\n",
    "\n",
    "# Define the robot's movement capability\n",
    "robot_speed = 2  # meters per second\n",
    "\n",
    "# Generate random positions for the shuttlecock\n",
    "shuttlecock_positions = [\n",
    "    (4, 1.3, 1.6),\n",
    "    (3.8, 3.8, 1.9),\n",
    "    (4, 1.3, 3)\n",
    "]\n",
    "\n",
    "# Define the robot's starting position as the center of the court\n",
    "robot_start_position = (11.04, 2.59)\n",
    "\n",
    "# Create a separate 3D plot for each iteration\n",
    "for i in range(len(shuttlecock_positions)):\n",
    "    # Predict the highest point of the shuttlecock for each position\n",
    "    shuttlecock_position = np.array([shuttlecock_positions[i]])\n",
    "    predicted_highest_point = model.predict(shuttlecock_position)[0][-1]  # Get the last element of the prediction\n",
    "\n",
    "    # Find the group with the closest accuracy to the predicted highest point\n",
    "    closest_group_id = None\n",
    "    min_difference = float('inf')\n",
    "\n",
    "    # Loop through the combined_group dataframe\n",
    "    for group_id in combined_group['SERVE_ID'].unique():\n",
    "        group_data = combined_group[combined_group['SERVE_ID'] == group_id]\n",
    "        group_highest_point = group_data['HIGHEST_POINT'].iloc[0]\n",
    "\n",
    "        difference = abs(group_highest_point - predicted_highest_point)\n",
    "\n",
    "        # Check if the current group has a smaller difference than the previous minimum\n",
    "        if difference < min_difference:\n",
    "            closest_group_id = group_id\n",
    "            min_difference = difference\n",
    "\n",
    "    # Output the group data for the closest group\n",
    "    closest_group_data = combined_group[combined_group['SERVE_ID'] == closest_group_id]\n",
    "\n",
    "    # Maximum of 0.12m offset from optimal hitting position\n",
    "    optimal_z_value = 0.12\n",
    "    robot_xy = (0, 0)\n",
    "    robot_z = 0\n",
    "    for z, row in closest_group_data.iterrows():\n",
    "        z_value_different = abs(row.iloc[7] - 0.8323)\n",
    "        if z_value_different < optimal_z_value:\n",
    "            optimal_z_value = z_value_different\n",
    "            robot_xy = (row.iloc[5], row.iloc[6])\n",
    "            robot_z = row.iloc[7]\n",
    "      \n",
    "        \n",
    "\n",
    "    # Find the index where highest point is equal to SHUTTLECOCK POSITIION IN AIR(Z) meters\n",
    "    start_index = closest_group_data[closest_group_data['HIGHEST_POINT'] == closest_group_data['SHUTTLECOCK POSITIION IN AIR(Z) metres']].index[0]\n",
    "    print(\"Highest Point (x, y, z):\", shuttlecock_positions[i][0], shuttlecock_positions[i][1], predicted_highest_point)\n",
    "\n",
    "    # Get the row number by subtracting the first row index from the start_index\n",
    "    row_number = start_index - closest_group_data.index[0] + 1\n",
    "\n",
    "    # Calculate the time needed for the robot to reach the predicted shuttlecock position\n",
    "    distance = np.sqrt(np.sum(np.square(np.array(robot_start_position) - np.array(robot_xy))))\n",
    "    print(\"Dist\", distance)\n",
    "    travel_time = distance / robot_speed\n",
    "    print(\"Robot travel time: \", travel_time)\n",
    "\n",
    "    # Move the robot to the predicted shuttlecock position only if the shuttlecock is at the highest point\n",
    "    if travel_time <= closest_group_data['TIME'].iloc[row_number]:\n",
    "        print(\"Moving the robot from\", robot_start_position, \"to\", robot_xy)\n",
    "\n",
    "        time.sleep(travel_time)\n",
    "        print(\"Robot reached the predicted shuttlecock position.\")\n",
    "\n",
    "        # Calculate the time taken from the end of the group to the predicted highest point\n",
    "        end_group_time = closest_group_data['TIME'].iloc[-1]\n",
    "        shuttlecock_time_before_ground = end_group_time - closest_group_data['TIME'].iloc[row_number]\n",
    "        print(\"Time taken from the predicted highest point to before the shuttlecock hits the ground:\", shuttlecock_time_before_ground, \"ms\")\n",
    "\n",
    "        # Check if the robot can reach the predicted position before the shuttlecock hits the ground\n",
    "        if travel_time <= shuttlecock_time_before_ground:\n",
    "            # Hit back the shuttlecock\n",
    "            print(\"Hitting back the shuttlecock at point:\", robot_z)\n",
    "            time.sleep(1.5)  # Assuming it takes 1.5 seconds to hit back the shuttlecock\n",
    "\n",
    "            # # Find the rows where Z is greater than 1.2\n",
    "            # valid_rows = closest_group_data[closest_group_data['SHUTTLECOCK POSITIION IN AIR(Z) metres']> 1.2]\n",
    "\n",
    "            # # Find the first row where the time taken for the robot to reach the row's X and Y is less than shuttlecock_time_before_ground\n",
    "            # final_row = valid_rows[(valid_rows['TIME'] - travel_time) < shuttlecock_time_before_ground].iloc[0]\n",
    "\n",
    "            # # Print the robot's final position after hitting back the shuttlecock\n",
    "            robot_final_position = (robot_xy[0], robot_xy[1], 0)\n",
    "            print(\"Robot's final position:\", robot_final_position)\n",
    "            print(\"--------------------\")\n",
    "\n",
    "            # Create a 3D plot using Plotly\n",
    "            fig = go.Figure()\n",
    "\n",
    "            # Plot the robot's starting position\n",
    "            fig.add_trace(go.Scatter3d(\n",
    "                x=[robot_start_position[0]],\n",
    "                y=[robot_start_position[1]],\n",
    "                z=[0],\n",
    "                mode='markers',\n",
    "                name='Robot Start',\n",
    "                marker=dict(color='blue', size=5)\n",
    "            ))\n",
    "\n",
    "            # Plot the shuttlecock positions\n",
    "            shuttlecock_x, shuttlecock_y, shuttlecock_z = shuttlecock_positions[i]\n",
    "            fig.add_trace(go.Scatter3d(\n",
    "                x=[shuttlecock_x],\n",
    "                y=[shuttlecock_y],\n",
    "                z=[shuttlecock_z],\n",
    "                mode='markers',\n",
    "                name='Shuttlecock (Given)',\n",
    "                marker=dict(color='red', size=5)\n",
    "            ))\n",
    "\n",
    "            # Plot the shuttlecock position at the highest point\n",
    "            fig.add_trace(go.Scatter3d(\n",
    "                x=[shuttlecock_x],\n",
    "                y=[shuttlecock_y],\n",
    "                z=[predicted_highest_point],\n",
    "                mode='markers',\n",
    "                name='Shuttlecock (Highest Point)',\n",
    "                marker=dict(color='orange', size=5)\n",
    "            ))\n",
    "\n",
    "            # Plot the robot's final position\n",
    "            robot_final_x, robot_final_y, robot_final_z = robot_final_position\n",
    "            fig.add_trace(go.Scatter3d(\n",
    "                x=[robot_xy[0]],\n",
    "                y=[robot_xy[1]],\n",
    "                z=[robot_final_z],\n",
    "                mode='markers',\n",
    "                name='Robot Final',\n",
    "                marker=dict(color='green', size=5)\n",
    "            ))\n",
    "\n",
    "            # Set layout properties\n",
    "            fig.update_layout(\n",
    "                scene=dict(\n",
    "                    xaxis=dict(title='X'),\n",
    "                    yaxis=dict(title='Y'),\n",
    "                    zaxis=dict(title='Z'),\n",
    "                    aspectmode='data',\n",
    "                    camera=dict(\n",
    "                        eye=dict(x=1.5, y=1.5, z=1.5)\n",
    "                    )\n",
    "                ),\n",
    "                title='Robot and Shuttlecock Positions',\n",
    "                showlegend=True\n",
    "            )\n",
    "\n",
    "            # Show the interactive plot\n",
    "            fig.show()\n",
    "        else:\n",
    "            print(\"Robot could not reach the predicted position before the shuttlecock hits the ground.\")\n",
    "    else:\n",
    "        print(\"Robot could not reach the predicted position before the shuttlecock reaches the highest point.\")\n"
   ]
  },
  {
   "attachments": {},
   "cell_type": "markdown",
   "metadata": {},
   "source": [
    "# Hyperparameter Tuning \n",
    "Experiment with different hyperparameters of the RandomForestRegressor to find the combination that yields better performance. You can use techniques like grid search or random search to explore the hyperparameter space and find optimal values. Adjusting parameters such as the number of estimators, max depth, or min samples leaf can significantly impact the model's accuracy."
   ]
  },
  {
   "cell_type": "code",
   "execution_count": null,
   "metadata": {},
   "outputs": [
    {
     "ename": "NameError",
     "evalue": "name 'X_train' is not defined",
     "output_type": "error",
     "traceback": [
      "\u001b[1;31m---------------------------------------------------------------------------\u001b[0m",
      "\u001b[1;31mNameError\u001b[0m                                 Traceback (most recent call last)",
      "Cell \u001b[1;32mIn[35], line 18\u001b[0m\n\u001b[0;32m     16\u001b[0m \u001b[39m# Perform grid search with cross-validation\u001b[39;00m\n\u001b[0;32m     17\u001b[0m grid_search \u001b[39m=\u001b[39m GridSearchCV(estimator\u001b[39m=\u001b[39mmodel, param_grid\u001b[39m=\u001b[39mparam_grid, cv\u001b[39m=\u001b[39m\u001b[39m5\u001b[39m, scoring\u001b[39m=\u001b[39m\u001b[39m'\u001b[39m\u001b[39mr2\u001b[39m\u001b[39m'\u001b[39m)\n\u001b[1;32m---> 18\u001b[0m grid_search\u001b[39m.\u001b[39mfit(X_train, y_train)\n\u001b[0;32m     20\u001b[0m \u001b[39m# Get the best model and its parameters\u001b[39;00m\n\u001b[0;32m     21\u001b[0m best_model \u001b[39m=\u001b[39m grid_search\u001b[39m.\u001b[39mbest_estimator_\n",
      "\u001b[1;31mNameError\u001b[0m: name 'X_train' is not defined"
     ]
    }
   ],
   "source": [
    "from sklearn.metrics import mean_squared_error, r2_score\n",
    "from sklearn.model_selection import cross_val_score, GridSearchCV\n",
    "from sklearn.ensemble import RandomForestRegressor\n",
    "import joblib\n",
    "\n",
    "# Define the parameter grid for hyperparameter tuning\n",
    "param_grid = {\n",
    "    'n_estimators': [100, 200, 300],\n",
    "    'max_depth': [None, 5, 10],\n",
    "    'min_samples_split': [2, 5, 10]\n",
    "}\n",
    "\n",
    "# Initialize the Random Forest Regressor\n",
    "model = RandomForestRegressor()\n",
    "\n",
    "# Perform grid search with cross-validation\n",
    "grid_search = GridSearchCV(estimator=model, param_grid=param_grid, cv=5, scoring='r2')\n",
    "grid_search.fit(X_train, y_train)\n",
    "\n",
    "# Get the best model and its parameters\n",
    "best_model = grid_search.best_estimator_\n",
    "best_params = grid_search.best_params_\n",
    "\n",
    "# Print the best parameters\n",
    "print(\"Best Parameters:\", best_params)\n",
    "\n",
    "# Train the best model\n",
    "best_model.fit(X_train, y_train)\n",
    "\n",
    "# Make predictions on the testing set\n",
    "y_pred = best_model.predict(X_test)\n",
    "\n",
    "# Calculate RMSE\n",
    "rmse = mean_squared_error(y_test, y_pred, squared=False)\n",
    "print(\"RMSE:\", rmse)\n",
    "\n",
    "# Calculate R2 score (coefficient of determination)\n",
    "r2 = r2_score(y_test, y_pred)\n",
    "print(\"R2 Score:\", r2)\n",
    "\n",
    "# Use cross-validation for more robust evaluation\n",
    "cv_rmse = -cross_val_score(best_model, X_train, y_train, cv=5, scoring='neg_root_mean_squared_error')\n",
    "print(\"Cross-validated RMSE:\", cv_rmse.mean())\n",
    "\n",
    "# Export the best model\n",
    "joblib.dump(best_model, 'regression_model.joblib')\n"
   ]
  }
 ],
 "metadata": {
  "kernelspec": {
   "display_name": "Python 3 (ipykernel)",
   "language": "python",
   "name": "python3"
  },
  "language_info": {
   "codemirror_mode": {
    "name": "ipython",
    "version": 3
   },
   "file_extension": ".py",
   "mimetype": "text/x-python",
   "name": "python",
   "nbconvert_exporter": "python",
   "pygments_lexer": "ipython3",
   "version": "3.10.7"
  }
 },
 "nbformat": 4,
 "nbformat_minor": 2
}
